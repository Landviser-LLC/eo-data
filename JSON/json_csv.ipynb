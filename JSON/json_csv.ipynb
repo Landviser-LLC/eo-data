{
 "cells": [
  {
   "cell_type": "code",
   "execution_count": 1,
   "id": "elect-interval",
   "metadata": {},
   "outputs": [
    {
     "output_type": "error",
     "ename": "ModuleNotFoundError",
     "evalue": "No module named 'ijson'",
     "traceback": [
      "\u001b[1;31m---------------------------------------------------------------------------\u001b[0m",
      "\u001b[1;31mModuleNotFoundError\u001b[0m                       Traceback (most recent call last)",
      "\u001b[1;32m<ipython-input-1-3fc27e2fbea1>\u001b[0m in \u001b[0;36m<module>\u001b[1;34m\u001b[0m\n\u001b[0;32m      2\u001b[0m \u001b[1;32mimport\u001b[0m \u001b[0mpandas\u001b[0m \u001b[1;32mas\u001b[0m \u001b[0mpd\u001b[0m\u001b[1;33m\u001b[0m\u001b[1;33m\u001b[0m\u001b[0m\n\u001b[0;32m      3\u001b[0m \u001b[1;32mimport\u001b[0m \u001b[0mjson\u001b[0m\u001b[1;33m\u001b[0m\u001b[1;33m\u001b[0m\u001b[0m\n\u001b[1;32m----> 4\u001b[1;33m \u001b[1;32mimport\u001b[0m \u001b[0mijson\u001b[0m\u001b[1;33m\u001b[0m\u001b[1;33m\u001b[0m\u001b[0m\n\u001b[0m\u001b[0;32m      5\u001b[0m \u001b[1;32mimport\u001b[0m \u001b[0mcsv\u001b[0m\u001b[1;33m\u001b[0m\u001b[1;33m\u001b[0m\u001b[0m\n\u001b[0;32m      6\u001b[0m \u001b[0mdict_csv\u001b[0m\u001b[1;33m=\u001b[0m\u001b[1;33m{\u001b[0m\u001b[1;33m}\u001b[0m\u001b[1;33m\u001b[0m\u001b[1;33m\u001b[0m\u001b[0m\n",
      "\u001b[1;31mModuleNotFoundError\u001b[0m: No module named 'ijson'"
     ]
    }
   ],
   "source": [
    "import re\n",
    "import pandas as pd\n",
    "import json\n",
    "import ijson\n",
    "import csv\n",
    "dict_csv={}\n",
    "month = ['JANUARY','FEBRUARY','MARCH','APRIL','MAY','JUNE','JULY','AUGUST','SEPTEMBER','OCTOBER','NOVEMBER','DECEMBER']\n",
    "for i in month:\n",
    "    with open('2020_' + i + '.json') as file:\n",
    "        json_data = file.read()\n",
    "        dictData = json.loads(json_data)\n",
    "    with open('2020_'+ i + '.csv','w') as file:\n",
    "        search_data(file, dictData)\n",
    "        dict_csv['address']= re.sub('\\n',' ',dict_csv['address'])\n",
    "        writer = csv.writer(file)\n",
    "        writer.writerows(list(map(list, dict_csv.items())))\n",
    "\n",
    "\n",
    "\n"
   ]
  },
  {
   "cell_type": "code",
   "execution_count": 2,
   "id": "extra-circle",
   "metadata": {},
   "outputs": [],
   "source": [
    "def search_data(csv_file, dictData: dict):\n",
    "    for i, value in dictData.items():\n",
    "        if dictData[i] and type(value) == dict:\n",
    "            dict_csv[i] = i\n",
    "            search_data(csv_file,dictData[i])\n",
    "        elif dictData[i] and type(value) == list:\n",
    "            for i in value:\n",
    "                search_data(csv_file,i)\n",
    "        else:\n",
    "            if not dict_csv.get(i):\n",
    "                dict_csv[i] =str(dictData[i]).strip()\n",
    "                print('value', str(i), str(dictData[i]))\n",
    "\n",
    "            else:\n",
    "                dict_csv[i] =dict_csv[i] +','+str(dictData[i]).strip()"
   ]
  }
 ],
 "metadata": {
  "kernelspec": {
   "display_name": "Python 3",
   "language": "python",
   "name": "python3"
  },
  "language_info": {
   "codemirror_mode": {
    "name": "ipython",
    "version": 3
   },
   "file_extension": ".py",
   "mimetype": "text/x-python",
   "name": "python",
   "nbconvert_exporter": "python",
   "pygments_lexer": "ipython3",
   "version": "3.8.5-final"
  }
 },
 "nbformat": 4,
 "nbformat_minor": 5
}
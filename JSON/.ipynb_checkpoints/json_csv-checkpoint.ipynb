{
 "cells": [
  {
   "cell_type": "code",
   "execution_count": 2,
   "id": "elect-interval",
   "metadata": {},
   "outputs": [],
   "source": [
    "import re\n",
    "import pandas as pd\n",
    "import json\n",
    "import ijson\n",
    "import csv\n"
   ]
  },
  {
   "cell_type": "code",
   "execution_count": 4,
   "id": "extra-circle",
   "metadata": {},
   "outputs": [],
   "source": [
    "def search_data(csv_file, dictData: dict):\n",
    "    for i, value in dictData.items():\n",
    "        if dictData[i] and type(value) == dict:\n",
    "            dict_csv[i] = i\n",
    "            search_data(csv_file,dictData[i])\n",
    "        elif dictData[i] and type(value) == list:\n",
    "            for i in value:\n",
    "                search_data(csv_file,i)\n",
    "        else:\n",
    "            if not dict_csv.get(i):\n",
    "                dict_csv[i] =str(dictData[i]).strip()\n",
    "                print('value', str(i), str(dictData[i]))\n",
    "\n",
    "            else:\n",
    "                dict_csv[i] =dict_csv[i] +','+str(dictData[i]).strip()"
   ]
  },
  {
   "cell_type": "code",
   "execution_count": 5,
   "id": "limiting-vegetarian",
   "metadata": {},
   "outputs": [
    {
     "name": "stdout",
     "output_type": "stream",
     "text": [
      "value latitudeE7 295386445\n",
      "value longitudeE7 -950756285\n",
      "value startTimestampMs 1577910336000\n",
      "value endTimestampMs 1577912260102\n",
      "value distance 1795\n",
      "value activityType WALKING\n",
      "value confidence HIGH\n",
      "value probability 77.51797437667847\n",
      "value latE7 295386695\n",
      "value lngE7 -950755157\n",
      "value timestampMs 1577910398000\n",
      "value accuracyMeters 3\n",
      "value placeId ChIJp0lWhW6dQIYRgjSIawgKlNM\n",
      "value address 828 Davis Rd\n",
      "League City, TX 77573\n",
      "USA\n",
      "value name 828 Davis Rd\n",
      "value semanticType TYPE_HOME\n",
      "value deviceTag -1658417736\n",
      "value locationConfidence 97.62982\n",
      "value placeConfidence HIGH_CONFIDENCE\n",
      "value centerLatE7 295381198\n",
      "value centerLngE7 -950748640\n",
      "value visitConfidence 91\n",
      "value editConfirmationStatus NOT_CONFIRMED\n",
      "value accuracyMetres 60\n"
     ]
    }
   ],
   "source": [
    "dict_csv={}\n",
    "month = ['JANUARY','FEBRUARY','MARCH','APRIL','MAY','JUNE','JULY','AUGUST','SEPTEMBER','OCTOBER','NOVEMBER','DECEMBER']\n",
    "for i in month:\n",
    "    with open('2020_' + i + '.json') as file:\n",
    "        json_data = file.read()\n",
    "        dictData = json.loads(json_data)\n",
    "    with open('2020_'+ i + '.csv','w') as file:\n",
    "        search_data(file, dictData)\n",
    "        dict_csv['address']= re.sub('\\n',' ',dict_csv['address'])\n",
    "        writer = csv.writer(file)\n",
    "        writer.writerows(list(map(list, dict_csv.items())))"
   ]
  },
  {
   "cell_type": "code",
   "execution_count": null,
   "id": "destroyed-craft",
   "metadata": {},
   "outputs": [],
   "source": []
  }
 ],
 "metadata": {
  "kernelspec": {
   "display_name": "Python 3",
   "language": "python",
   "name": "python3"
  },
  "language_info": {
   "codemirror_mode": {
    "name": "ipython",
    "version": 3
   },
   "file_extension": ".py",
   "mimetype": "text/x-python",
   "name": "python",
   "nbconvert_exporter": "python",
   "pygments_lexer": "ipython3",
   "version": "3.9.1"
  }
 },
 "nbformat": 4,
 "nbformat_minor": 5
}

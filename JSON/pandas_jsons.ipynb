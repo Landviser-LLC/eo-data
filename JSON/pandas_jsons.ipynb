{
 "cells": [
  {
   "cell_type": "code",
   "execution_count": 2,
   "metadata": {},
   "outputs": [],
   "source": [
    "#pip install matplotlib"
   ]
  },
  {
   "cell_type": "code",
   "execution_count": 1,
   "metadata": {},
   "outputs": [
    {
     "output_type": "stream",
     "name": "stdout",
     "text": [
      "Populating the interactive namespace from numpy and matplotlib\n"
     ]
    }
   ],
   "source": [
    "%pylab inline\n",
    "import pandas as pd\n",
    "import os\n",
    "import json"
   ]
  },
  {
   "source": [
    "medium.com/swlh/converting-nested-json-structures-to-pandas-dataframes-e8106c59976e\n",
    "parsing json to Pandas df: \n",
    "allowed orients are {'split','records','index', 'columns','values', 'table'}"
   ],
   "cell_type": "code",
   "metadata": {},
   "execution_count": null,
   "outputs": []
  },
  {
   "cell_type": "code",
   "execution_count": 2,
   "metadata": {},
   "outputs": [
    {
     "output_type": "stream",
     "name": "stdout",
     "text": [
      "current directory  c:\\Users\\laris\\OneDrive\\PY3\\eo_crops\\JSON\n"
     ]
    },
    {
     "output_type": "execute_result",
     "data": {
      "text/plain": [
       "['2020', 'archive_browser.html', 'pandas_jsons.ipynb', 'README.md']"
      ]
     },
     "metadata": {},
     "execution_count": 2
    }
   ],
   "source": [
    "# listing files in current working directory\n",
    "print('current directory ', os.getcwd())\n",
    "os.listdir()"
   ]
  },
  {
   "cell_type": "code",
   "execution_count": 3,
   "metadata": {},
   "outputs": [
    {
     "output_type": "stream",
     "name": "stdout",
     "text": [
      "(0, '2020_APRIL.json')\n(1, '2020_AUGUST.json')\n(2, '2020_DECEMBER.json')\n(3, '2020_FEBRUARY.json')\n(4, '2020_JANUARY.json')\n(5, '2020_JULY.json')\n(6, '2020_JUNE.json')\n(7, '2020_MARCH.json')\n(8, '2020_MAY.json')\n(9, '2020_NOVEMBER.json')\n(10, '2020_OCTOBER.json')\n(11, '2020_SEPTEMBER.json')\n"
     ]
    }
   ],
   "source": [
    "jsonfiles = os.listdir('2020')\n",
    "obj_num = enumerate(jsonfiles)\n",
    "print(*list(obj_num), sep='\\n')"
   ]
  },
  {
   "cell_type": "code",
   "execution_count": 18,
   "metadata": {
    "tags": []
   },
   "outputs": [
    {
     "output_type": "execute_result",
     "data": {
      "text/plain": [
       "                                     timelineObjects\n",
       "0  {'activitySegment': {'startLocation': {'latitu...\n",
       "1  {'placeVisit': {'location': {'latitudeE7': 295...\n",
       "2  {'activitySegment': {'startLocation': {'latitu...\n",
       "3  {'placeVisit': {'location': {'latitudeE7': 295...\n",
       "4  {'activitySegment': {'startLocation': {'latitu..."
      ],
      "text/html": "<div>\n<style scoped>\n    .dataframe tbody tr th:only-of-type {\n        vertical-align: middle;\n    }\n\n    .dataframe tbody tr th {\n        vertical-align: top;\n    }\n\n    .dataframe thead th {\n        text-align: right;\n    }\n</style>\n<table border=\"1\" class=\"dataframe\">\n  <thead>\n    <tr style=\"text-align: right;\">\n      <th></th>\n      <th>timelineObjects</th>\n    </tr>\n  </thead>\n  <tbody>\n    <tr>\n      <th>0</th>\n      <td>{'activitySegment': {'startLocation': {'latitu...</td>\n    </tr>\n    <tr>\n      <th>1</th>\n      <td>{'placeVisit': {'location': {'latitudeE7': 295...</td>\n    </tr>\n    <tr>\n      <th>2</th>\n      <td>{'activitySegment': {'startLocation': {'latitu...</td>\n    </tr>\n    <tr>\n      <th>3</th>\n      <td>{'placeVisit': {'location': {'latitudeE7': 295...</td>\n    </tr>\n    <tr>\n      <th>4</th>\n      <td>{'activitySegment': {'startLocation': {'latitu...</td>\n    </tr>\n  </tbody>\n</table>\n</div>"
     },
     "metadata": {},
     "execution_count": 18
    }
   ],
   "source": [
    "pd.set_option('display.max_rows', None)\n",
    "# parsing json from Google travel timeline per one month\n",
    "jsonfilename = '2020/' + jsonfiles[4]  # change number here to select different json file from the enumerated list above\n",
    "jsonf = open(jsonfilename)\n",
    "data = json.load(jsonf)\n",
    "df = pd.DataFrame(data)\n",
    "df.head()"
   ]
  },
  {
   "cell_type": "code",
   "execution_count": 19,
   "metadata": {},
   "outputs": [
    {
     "output_type": "execute_result",
     "data": {
      "text/plain": [
       "(211, 1)"
      ]
     },
     "metadata": {},
     "execution_count": 19
    }
   ],
   "source": [
    "df.shape"
   ]
  },
  {
   "cell_type": "code",
   "execution_count": 24,
   "metadata": {},
   "outputs": [
    {
     "output_type": "stream",
     "name": "stdout",
     "text": [
      "timelineObjects    {'activitySegment': {'startLocation': {'latitu...\nName: 0, dtype: object\n"
     ]
    }
   ],
   "source": [
    "print(df.iloc[0])"
   ]
  },
  {
   "cell_type": "code",
   "execution_count": 9,
   "metadata": {},
   "outputs": [
    {
     "output_type": "execute_result",
     "data": {
      "text/plain": [
       "                                       timelineObjects\n",
       "0    {'activitySegment': {'startLocation': {'latitu...\n",
       "1    {'placeVisit': {'location': {'latitudeE7': 295...\n",
       "2    {'activitySegment': {'startLocation': {'latitu...\n",
       "3    {'placeVisit': {'location': {'latitudeE7': 295...\n",
       "4    {'activitySegment': {'startLocation': {'latitu...\n",
       "5    {'placeVisit': {'location': {'latitudeE7': 295...\n",
       "6    {'activitySegment': {'startLocation': {'latitu...\n",
       "7    {'placeVisit': {'location': {'latitudeE7': 293...\n",
       "8    {'activitySegment': {'startLocation': {'latitu...\n",
       "9    {'placeVisit': {'location': {'latitudeE7': 295...\n",
       "10   {'activitySegment': {'startLocation': {'latitu...\n",
       "11   {'placeVisit': {'location': {'latitudeE7': 295...\n",
       "12   {'activitySegment': {'startLocation': {'latitu...\n",
       "13   {'placeVisit': {'location': {'latitudeE7': 293...\n",
       "14   {'activitySegment': {'startLocation': {'latitu...\n",
       "15   {'placeVisit': {'location': {'latitudeE7': 293...\n",
       "16   {'activitySegment': {'startLocation': {'latitu...\n",
       "17   {'placeVisit': {'location': {'latitudeE7': 295...\n",
       "18   {'activitySegment': {'startLocation': {'latitu...\n",
       "19   {'placeVisit': {'location': {'latitudeE7': 295...\n",
       "20   {'activitySegment': {'startLocation': {'latitu...\n",
       "21   {'placeVisit': {'location': {'latitudeE7': 296...\n",
       "22   {'activitySegment': {'startLocation': {'latitu...\n",
       "23   {'placeVisit': {'location': {'latitudeE7': 295...\n",
       "24   {'activitySegment': {'startLocation': {'latitu...\n",
       "25   {'placeVisit': {'location': {'latitudeE7': 295...\n",
       "26   {'activitySegment': {'startLocation': {'latitu...\n",
       "27   {'placeVisit': {'location': {'latitudeE7': 295...\n",
       "28   {'activitySegment': {'startLocation': {'latitu...\n",
       "29   {'placeVisit': {'location': {'latitudeE7': 295...\n",
       "30   {'activitySegment': {'startLocation': {'latitu...\n",
       "31   {'placeVisit': {'location': {'latitudeE7': 295...\n",
       "32   {'activitySegment': {'startLocation': {'latitu...\n",
       "33   {'placeVisit': {'location': {'latitudeE7': 293...\n",
       "34   {'activitySegment': {'startLocation': {'latitu...\n",
       "35   {'placeVisit': {'location': {'latitudeE7': 295...\n",
       "36   {'activitySegment': {'startLocation': {'latitu...\n",
       "37   {'placeVisit': {'location': {'latitudeE7': 296...\n",
       "38   {'activitySegment': {'startLocation': {'latitu...\n",
       "39   {'placeVisit': {'location': {'latitudeE7': 295...\n",
       "40   {'activitySegment': {'startLocation': {'latitu...\n",
       "41   {'placeVisit': {'location': {'latitudeE7': 295...\n",
       "42   {'activitySegment': {'startLocation': {'latitu...\n",
       "43   {'placeVisit': {'location': {'latitudeE7': 293...\n",
       "44   {'activitySegment': {'startLocation': {'latitu...\n",
       "45   {'placeVisit': {'location': {'latitudeE7': 295...\n",
       "46   {'activitySegment': {'startLocation': {'latitu...\n",
       "47   {'placeVisit': {'location': {'latitudeE7': 295...\n",
       "48   {'activitySegment': {'startLocation': {'latitu...\n",
       "49   {'placeVisit': {'location': {'latitudeE7': 294...\n",
       "50   {'activitySegment': {'startLocation': {'latitu...\n",
       "51   {'placeVisit': {'location': {'latitudeE7': 293...\n",
       "52   {'activitySegment': {'startLocation': {'latitu...\n",
       "53   {'placeVisit': {'location': {'latitudeE7': 295...\n",
       "54   {'activitySegment': {'startLocation': {'latitu...\n",
       "55   {'placeVisit': {'location': {'latitudeE7': 296...\n",
       "56   {'activitySegment': {'startLocation': {'latitu...\n",
       "57   {'placeVisit': {'location': {'latitudeE7': 295...\n",
       "58   {'activitySegment': {'startLocation': {'latitu...\n",
       "59   {'placeVisit': {'location': {'latitudeE7': 293...\n",
       "60   {'activitySegment': {'startLocation': {'latitu...\n",
       "61   {'placeVisit': {'location': {'latitudeE7': 295...\n",
       "62   {'activitySegment': {'startLocation': {'latitu...\n",
       "63   {'placeVisit': {'location': {'latitudeE7': 295...\n",
       "64   {'activitySegment': {'startLocation': {'latitu...\n",
       "65   {'placeVisit': {'location': {'latitudeE7': 293...\n",
       "66   {'activitySegment': {'startLocation': {'latitu...\n",
       "67   {'placeVisit': {'location': {'latitudeE7': 295...\n",
       "68   {'activitySegment': {'startLocation': {'latitu...\n",
       "69   {'placeVisit': {'location': {'latitudeE7': 294...\n",
       "70   {'activitySegment': {'startLocation': {'latitu...\n",
       "71   {'placeVisit': {'location': {'latitudeE7': 295...\n",
       "72   {'activitySegment': {'startLocation': {'latitu...\n",
       "73   {'placeVisit': {'location': {'latitudeE7': 293...\n",
       "74   {'activitySegment': {'startLocation': {'latitu...\n",
       "75   {'placeVisit': {'location': {'latitudeE7': 293...\n",
       "76   {'activitySegment': {'startLocation': {'latitu...\n",
       "77   {'placeVisit': {'location': {'latitudeE7': 295...\n",
       "78   {'activitySegment': {'startLocation': {'latitu...\n",
       "79   {'placeVisit': {'location': {'latitudeE7': 296...\n",
       "80   {'activitySegment': {'startLocation': {'latitu...\n",
       "81   {'placeVisit': {'location': {'latitudeE7': 295...\n",
       "82   {'activitySegment': {'startLocation': {'latitu...\n",
       "83   {'placeVisit': {'location': {'latitudeE7': 295...\n",
       "84   {'activitySegment': {'startLocation': {'latitu...\n",
       "85   {'placeVisit': {'location': {'latitudeE7': 293...\n",
       "86   {'activitySegment': {'startLocation': {'latitu...\n",
       "87   {'placeVisit': {'location': {'latitudeE7': 295...\n",
       "88   {'activitySegment': {'startLocation': {'latitu...\n",
       "89   {'placeVisit': {'location': {'latitudeE7': 295...\n",
       "90   {'activitySegment': {'startLocation': {'latitu...\n",
       "91   {'placeVisit': {'location': {'latitudeE7': 294...\n",
       "92   {'activitySegment': {'startLocation': {'latitu...\n",
       "93   {'placeVisit': {'location': {'latitudeE7': 293...\n",
       "94   {'activitySegment': {'startLocation': {'latitu...\n",
       "95   {'placeVisit': {'location': {'latitudeE7': 295...\n",
       "96   {'activitySegment': {'startLocation': {'latitu...\n",
       "97   {'placeVisit': {'location': {'latitudeE7': 296...\n",
       "98   {'activitySegment': {'startLocation': {'latitu...\n",
       "99   {'placeVisit': {'location': {'latitudeE7': 295...\n",
       "100  {'activitySegment': {'startLocation': {'latitu...\n",
       "101  {'placeVisit': {'location': {'latitudeE7': 293...\n",
       "102  {'activitySegment': {'startLocation': {'latitu...\n",
       "103  {'placeVisit': {'location': {'latitudeE7': 294...\n",
       "104  {'activitySegment': {'startLocation': {'latitu...\n",
       "105  {'placeVisit': {'location': {'latitudeE7': 295...\n",
       "106  {'activitySegment': {'startLocation': {'latitu...\n",
       "107  {'placeVisit': {'location': {'latitudeE7': 293...\n",
       "108  {'activitySegment': {'startLocation': {'latitu...\n",
       "109  {'placeVisit': {'location': {'latitudeE7': 295...\n",
       "110  {'activitySegment': {'startLocation': {'latitu...\n",
       "111  {'placeVisit': {'location': {'latitudeE7': 295...\n",
       "112  {'activitySegment': {'startLocation': {'latitu...\n",
       "113  {'placeVisit': {'location': {'latitudeE7': 296...\n",
       "114  {'activitySegment': {'startLocation': {'latitu...\n",
       "115  {'placeVisit': {'location': {'latitudeE7': 295...\n",
       "116  {'activitySegment': {'startLocation': {'latitu...\n",
       "117  {'placeVisit': {'location': {'latitudeE7': 295...\n",
       "118  {'activitySegment': {'startLocation': {'latitu...\n",
       "119  {'placeVisit': {'location': {'latitudeE7': 295...\n",
       "120  {'activitySegment': {'startLocation': {'latitu...\n",
       "121  {'placeVisit': {'location': {'latitudeE7': 297...\n",
       "122  {'activitySegment': {'startLocation': {'latitu...\n",
       "123  {'placeVisit': {'location': {'latitudeE7': 295...\n",
       "124  {'activitySegment': {'startLocation': {'latitu...\n",
       "125  {'placeVisit': {'location': {'latitudeE7': 293...\n",
       "126  {'activitySegment': {'startLocation': {'latitu...\n",
       "127  {'placeVisit': {'location': {'latitudeE7': 295...\n",
       "128  {'activitySegment': {'startLocation': {'latitu...\n",
       "129  {'placeVisit': {'location': {'latitudeE7': 295...\n",
       "130  {'activitySegment': {'startLocation': {'latitu...\n",
       "131  {'placeVisit': {'location': {'latitudeE7': 293...\n",
       "132  {'activitySegment': {'startLocation': {'latitu...\n",
       "133  {'placeVisit': {'location': {'latitudeE7': 294...\n",
       "134  {'activitySegment': {'startLocation': {'latitu...\n",
       "135  {'placeVisit': {'location': {'latitudeE7': 295...\n",
       "136  {'activitySegment': {'startLocation': {'latitu...\n",
       "137  {'placeVisit': {'location': {'latitudeE7': 294...\n",
       "138  {'activitySegment': {'startLocation': {'latitu...\n",
       "139  {'placeVisit': {'location': {'latitudeE7': 293...\n",
       "140  {'activitySegment': {'startLocation': {'latitu...\n",
       "141  {'placeVisit': {'location': {'latitudeE7': 295...\n",
       "142  {'activitySegment': {'startLocation': {'latitu...\n",
       "143  {'placeVisit': {'location': {'latitudeE7': 296...\n",
       "144  {'activitySegment': {'startLocation': {'latitu...\n",
       "145  {'placeVisit': {'location': {'latitudeE7': 295...\n",
       "146  {'activitySegment': {'startLocation': {'latitu...\n",
       "147  {'placeVisit': {'location': {'latitudeE7': 293...\n",
       "148  {'activitySegment': {'startLocation': {'latitu...\n",
       "149  {'placeVisit': {'location': {'latitudeE7': 295...\n",
       "150  {'activitySegment': {'startLocation': {'latitu...\n",
       "151  {'placeVisit': {'location': {'latitudeE7': 295...\n",
       "152  {'activitySegment': {'startLocation': {'latitu...\n",
       "153  {'placeVisit': {'location': {'latitudeE7': 295...\n",
       "154  {'activitySegment': {'startLocation': {'latitu...\n",
       "155  {'placeVisit': {'location': {'latitudeE7': 292...\n",
       "156  {'activitySegment': {'startLocation': {'latitu...\n",
       "157  {'placeVisit': {'location': {'latitudeE7': 293...\n",
       "158  {'activitySegment': {'startLocation': {'latitu...\n",
       "159  {'placeVisit': {'location': {'latitudeE7': 293...\n",
       "160  {'activitySegment': {'startLocation': {'latitu...\n",
       "161  {'placeVisit': {'location': {'latitudeE7': 295...\n",
       "162  {'activitySegment': {'startLocation': {'latitu...\n",
       "163  {'placeVisit': {'location': {'latitudeE7': 295...\n",
       "164  {'activitySegment': {'startLocation': {'latitu...\n",
       "165  {'placeVisit': {'location': {'latitudeE7': 295...\n",
       "166  {'activitySegment': {'startLocation': {'latitu...\n",
       "167  {'placeVisit': {'location': {'latitudeE7': 295...\n",
       "168  {'activitySegment': {'startLocation': {'latitu...\n",
       "169  {'placeVisit': {'location': {'latitudeE7': 296...\n",
       "170  {'activitySegment': {'startLocation': {'latitu...\n",
       "171  {'placeVisit': {'location': {'latitudeE7': 295...\n",
       "172  {'activitySegment': {'startLocation': {'latitu...\n",
       "173  {'placeVisit': {'location': {'latitudeE7': 295...\n",
       "174  {'activitySegment': {'startLocation': {'latitu...\n",
       "175  {'placeVisit': {'location': {'latitudeE7': 295...\n",
       "176  {'activitySegment': {'startLocation': {'latitu...\n",
       "177  {'placeVisit': {'location': {'latitudeE7': 295...\n",
       "178  {'activitySegment': {'startLocation': {'latitu...\n",
       "179  {'placeVisit': {'location': {'latitudeE7': 295...\n",
       "180  {'activitySegment': {'startLocation': {'latitu...\n",
       "181  {'placeVisit': {'location': {'latitudeE7': 293...\n",
       "182  {'activitySegment': {'startLocation': {'latitu...\n",
       "183  {'placeVisit': {'location': {'latitudeE7': 295...\n",
       "184  {'activitySegment': {'startLocation': {'latitu...\n",
       "185  {'placeVisit': {'location': {'latitudeE7': 293...\n",
       "186  {'activitySegment': {'startLocation': {'latitu...\n",
       "187  {'placeVisit': {'location': {'latitudeE7': 293...\n",
       "188  {'activitySegment': {'startLocation': {'latitu...\n",
       "189  {'placeVisit': {'location': {'latitudeE7': 293...\n",
       "190  {'activitySegment': {'startLocation': {'latitu...\n",
       "191  {'placeVisit': {'location': {'latitudeE7': 295...\n",
       "192  {'activitySegment': {'startLocation': {'latitu...\n",
       "193  {'placeVisit': {'location': {'latitudeE7': 294...\n",
       "194  {'activitySegment': {'startLocation': {'latitu...\n",
       "195  {'placeVisit': {'location': {'latitudeE7': 293...\n",
       "196  {'activitySegment': {'startLocation': {'latitu...\n",
       "197  {'placeVisit': {'location': {'latitudeE7': 295...\n",
       "198  {'activitySegment': {'startLocation': {'latitu...\n",
       "199  {'placeVisit': {'location': {'latitudeE7': 296...\n",
       "200  {'activitySegment': {'startLocation': {'latitu...\n",
       "201  {'placeVisit': {'location': {'latitudeE7': 295...\n",
       "202  {'activitySegment': {'startLocation': {'latitu...\n",
       "203  {'placeVisit': {'location': {'latitudeE7': 293...\n",
       "204  {'activitySegment': {'startLocation': {'latitu...\n",
       "205  {'placeVisit': {'location': {'latitudeE7': 295...\n",
       "206  {'activitySegment': {'startLocation': {'latitu...\n",
       "207  {'placeVisit': {'location': {'latitudeE7': 294...\n",
       "208  {'activitySegment': {'startLocation': {'latitu...\n",
       "209  {'placeVisit': {'location': {'latitudeE7': 293...\n",
       "210  {'activitySegment': {'startLocation': {'latitu..."
      ],
      "text/html": "<div>\n<style scoped>\n    .dataframe tbody tr th:only-of-type {\n        vertical-align: middle;\n    }\n\n    .dataframe tbody tr th {\n        vertical-align: top;\n    }\n\n    .dataframe thead th {\n        text-align: right;\n    }\n</style>\n<table border=\"1\" class=\"dataframe\">\n  <thead>\n    <tr style=\"text-align: right;\">\n      <th></th>\n      <th>timelineObjects</th>\n    </tr>\n  </thead>\n  <tbody>\n    <tr>\n      <th>0</th>\n      <td>{'activitySegment': {'startLocation': {'latitu...</td>\n    </tr>\n    <tr>\n      <th>1</th>\n      <td>{'placeVisit': {'location': {'latitudeE7': 295...</td>\n    </tr>\n    <tr>\n      <th>2</th>\n      <td>{'activitySegment': {'startLocation': {'latitu...</td>\n    </tr>\n    <tr>\n      <th>3</th>\n      <td>{'placeVisit': {'location': {'latitudeE7': 295...</td>\n    </tr>\n    <tr>\n      <th>4</th>\n      <td>{'activitySegment': {'startLocation': {'latitu...</td>\n    </tr>\n    <tr>\n      <th>5</th>\n      <td>{'placeVisit': {'location': {'latitudeE7': 295...</td>\n    </tr>\n    <tr>\n      <th>6</th>\n      <td>{'activitySegment': {'startLocation': {'latitu...</td>\n    </tr>\n    <tr>\n      <th>7</th>\n      <td>{'placeVisit': {'location': {'latitudeE7': 293...</td>\n    </tr>\n    <tr>\n      <th>8</th>\n      <td>{'activitySegment': {'startLocation': {'latitu...</td>\n    </tr>\n    <tr>\n      <th>9</th>\n      <td>{'placeVisit': {'location': {'latitudeE7': 295...</td>\n    </tr>\n    <tr>\n      <th>10</th>\n      <td>{'activitySegment': {'startLocation': {'latitu...</td>\n    </tr>\n    <tr>\n      <th>11</th>\n      <td>{'placeVisit': {'location': {'latitudeE7': 295...</td>\n    </tr>\n    <tr>\n      <th>12</th>\n      <td>{'activitySegment': {'startLocation': {'latitu...</td>\n    </tr>\n    <tr>\n      <th>13</th>\n      <td>{'placeVisit': {'location': {'latitudeE7': 293...</td>\n    </tr>\n    <tr>\n      <th>14</th>\n      <td>{'activitySegment': {'startLocation': {'latitu...</td>\n    </tr>\n    <tr>\n      <th>15</th>\n      <td>{'placeVisit': {'location': {'latitudeE7': 293...</td>\n    </tr>\n    <tr>\n      <th>16</th>\n      <td>{'activitySegment': {'startLocation': {'latitu...</td>\n    </tr>\n    <tr>\n      <th>17</th>\n      <td>{'placeVisit': {'location': {'latitudeE7': 295...</td>\n    </tr>\n    <tr>\n      <th>18</th>\n      <td>{'activitySegment': {'startLocation': {'latitu...</td>\n    </tr>\n    <tr>\n      <th>19</th>\n      <td>{'placeVisit': {'location': {'latitudeE7': 295...</td>\n    </tr>\n    <tr>\n      <th>20</th>\n      <td>{'activitySegment': {'startLocation': {'latitu...</td>\n    </tr>\n    <tr>\n      <th>21</th>\n      <td>{'placeVisit': {'location': {'latitudeE7': 296...</td>\n    </tr>\n    <tr>\n      <th>22</th>\n      <td>{'activitySegment': {'startLocation': {'latitu...</td>\n    </tr>\n    <tr>\n      <th>23</th>\n      <td>{'placeVisit': {'location': {'latitudeE7': 295...</td>\n    </tr>\n    <tr>\n      <th>24</th>\n      <td>{'activitySegment': {'startLocation': {'latitu...</td>\n    </tr>\n    <tr>\n      <th>25</th>\n      <td>{'placeVisit': {'location': {'latitudeE7': 295...</td>\n    </tr>\n    <tr>\n      <th>26</th>\n      <td>{'activitySegment': {'startLocation': {'latitu...</td>\n    </tr>\n    <tr>\n      <th>27</th>\n      <td>{'placeVisit': {'location': {'latitudeE7': 295...</td>\n    </tr>\n    <tr>\n      <th>28</th>\n      <td>{'activitySegment': {'startLocation': {'latitu...</td>\n    </tr>\n    <tr>\n      <th>29</th>\n      <td>{'placeVisit': {'location': {'latitudeE7': 295...</td>\n    </tr>\n    <tr>\n      <th>30</th>\n      <td>{'activitySegment': {'startLocation': {'latitu...</td>\n    </tr>\n    <tr>\n      <th>31</th>\n      <td>{'placeVisit': {'location': {'latitudeE7': 295...</td>\n    </tr>\n    <tr>\n      <th>32</th>\n      <td>{'activitySegment': {'startLocation': {'latitu...</td>\n    </tr>\n    <tr>\n      <th>33</th>\n      <td>{'placeVisit': {'location': {'latitudeE7': 293...</td>\n    </tr>\n    <tr>\n      <th>34</th>\n      <td>{'activitySegment': {'startLocation': {'latitu...</td>\n    </tr>\n    <tr>\n      <th>35</th>\n      <td>{'placeVisit': {'location': {'latitudeE7': 295...</td>\n    </tr>\n    <tr>\n      <th>36</th>\n      <td>{'activitySegment': {'startLocation': {'latitu...</td>\n    </tr>\n    <tr>\n      <th>37</th>\n      <td>{'placeVisit': {'location': {'latitudeE7': 296...</td>\n    </tr>\n    <tr>\n      <th>38</th>\n      <td>{'activitySegment': {'startLocation': {'latitu...</td>\n    </tr>\n    <tr>\n      <th>39</th>\n      <td>{'placeVisit': {'location': {'latitudeE7': 295...</td>\n    </tr>\n    <tr>\n      <th>40</th>\n      <td>{'activitySegment': {'startLocation': {'latitu...</td>\n    </tr>\n    <tr>\n      <th>41</th>\n      <td>{'placeVisit': {'location': {'latitudeE7': 295...</td>\n    </tr>\n    <tr>\n      <th>42</th>\n      <td>{'activitySegment': {'startLocation': {'latitu...</td>\n    </tr>\n    <tr>\n      <th>43</th>\n      <td>{'placeVisit': {'location': {'latitudeE7': 293...</td>\n    </tr>\n    <tr>\n      <th>44</th>\n      <td>{'activitySegment': {'startLocation': {'latitu...</td>\n    </tr>\n    <tr>\n      <th>45</th>\n      <td>{'placeVisit': {'location': {'latitudeE7': 295...</td>\n    </tr>\n    <tr>\n      <th>46</th>\n      <td>{'activitySegment': {'startLocation': {'latitu...</td>\n    </tr>\n    <tr>\n      <th>47</th>\n      <td>{'placeVisit': {'location': {'latitudeE7': 295...</td>\n    </tr>\n    <tr>\n      <th>48</th>\n      <td>{'activitySegment': {'startLocation': {'latitu...</td>\n    </tr>\n    <tr>\n      <th>49</th>\n      <td>{'placeVisit': {'location': {'latitudeE7': 294...</td>\n    </tr>\n    <tr>\n      <th>50</th>\n      <td>{'activitySegment': {'startLocation': {'latitu...</td>\n    </tr>\n    <tr>\n      <th>51</th>\n      <td>{'placeVisit': {'location': {'latitudeE7': 293...</td>\n    </tr>\n    <tr>\n      <th>52</th>\n      <td>{'activitySegment': {'startLocation': {'latitu...</td>\n    </tr>\n    <tr>\n      <th>53</th>\n      <td>{'placeVisit': {'location': {'latitudeE7': 295...</td>\n    </tr>\n    <tr>\n      <th>54</th>\n      <td>{'activitySegment': {'startLocation': {'latitu...</td>\n    </tr>\n    <tr>\n      <th>55</th>\n      <td>{'placeVisit': {'location': {'latitudeE7': 296...</td>\n    </tr>\n    <tr>\n      <th>56</th>\n      <td>{'activitySegment': {'startLocation': {'latitu...</td>\n    </tr>\n    <tr>\n      <th>57</th>\n      <td>{'placeVisit': {'location': {'latitudeE7': 295...</td>\n    </tr>\n    <tr>\n      <th>58</th>\n      <td>{'activitySegment': {'startLocation': {'latitu...</td>\n    </tr>\n    <tr>\n      <th>59</th>\n      <td>{'placeVisit': {'location': {'latitudeE7': 293...</td>\n    </tr>\n    <tr>\n      <th>60</th>\n      <td>{'activitySegment': {'startLocation': {'latitu...</td>\n    </tr>\n    <tr>\n      <th>61</th>\n      <td>{'placeVisit': {'location': {'latitudeE7': 295...</td>\n    </tr>\n    <tr>\n      <th>62</th>\n      <td>{'activitySegment': {'startLocation': {'latitu...</td>\n    </tr>\n    <tr>\n      <th>63</th>\n      <td>{'placeVisit': {'location': {'latitudeE7': 295...</td>\n    </tr>\n    <tr>\n      <th>64</th>\n      <td>{'activitySegment': {'startLocation': {'latitu...</td>\n    </tr>\n    <tr>\n      <th>65</th>\n      <td>{'placeVisit': {'location': {'latitudeE7': 293...</td>\n    </tr>\n    <tr>\n      <th>66</th>\n      <td>{'activitySegment': {'startLocation': {'latitu...</td>\n    </tr>\n    <tr>\n      <th>67</th>\n      <td>{'placeVisit': {'location': {'latitudeE7': 295...</td>\n    </tr>\n    <tr>\n      <th>68</th>\n      <td>{'activitySegment': {'startLocation': {'latitu...</td>\n    </tr>\n    <tr>\n      <th>69</th>\n      <td>{'placeVisit': {'location': {'latitudeE7': 294...</td>\n    </tr>\n    <tr>\n      <th>70</th>\n      <td>{'activitySegment': {'startLocation': {'latitu...</td>\n    </tr>\n    <tr>\n      <th>71</th>\n      <td>{'placeVisit': {'location': {'latitudeE7': 295...</td>\n    </tr>\n    <tr>\n      <th>72</th>\n      <td>{'activitySegment': {'startLocation': {'latitu...</td>\n    </tr>\n    <tr>\n      <th>73</th>\n      <td>{'placeVisit': {'location': {'latitudeE7': 293...</td>\n    </tr>\n    <tr>\n      <th>74</th>\n      <td>{'activitySegment': {'startLocation': {'latitu...</td>\n    </tr>\n    <tr>\n      <th>75</th>\n      <td>{'placeVisit': {'location': {'latitudeE7': 293...</td>\n    </tr>\n    <tr>\n      <th>76</th>\n      <td>{'activitySegment': {'startLocation': {'latitu...</td>\n    </tr>\n    <tr>\n      <th>77</th>\n      <td>{'placeVisit': {'location': {'latitudeE7': 295...</td>\n    </tr>\n    <tr>\n      <th>78</th>\n      <td>{'activitySegment': {'startLocation': {'latitu...</td>\n    </tr>\n    <tr>\n      <th>79</th>\n      <td>{'placeVisit': {'location': {'latitudeE7': 296...</td>\n    </tr>\n    <tr>\n      <th>80</th>\n      <td>{'activitySegment': {'startLocation': {'latitu...</td>\n    </tr>\n    <tr>\n      <th>81</th>\n      <td>{'placeVisit': {'location': {'latitudeE7': 295...</td>\n    </tr>\n    <tr>\n      <th>82</th>\n      <td>{'activitySegment': {'startLocation': {'latitu...</td>\n    </tr>\n    <tr>\n      <th>83</th>\n      <td>{'placeVisit': {'location': {'latitudeE7': 295...</td>\n    </tr>\n    <tr>\n      <th>84</th>\n      <td>{'activitySegment': {'startLocation': {'latitu...</td>\n    </tr>\n    <tr>\n      <th>85</th>\n      <td>{'placeVisit': {'location': {'latitudeE7': 293...</td>\n    </tr>\n    <tr>\n      <th>86</th>\n      <td>{'activitySegment': {'startLocation': {'latitu...</td>\n    </tr>\n    <tr>\n      <th>87</th>\n      <td>{'placeVisit': {'location': {'latitudeE7': 295...</td>\n    </tr>\n    <tr>\n      <th>88</th>\n      <td>{'activitySegment': {'startLocation': {'latitu...</td>\n    </tr>\n    <tr>\n      <th>89</th>\n      <td>{'placeVisit': {'location': {'latitudeE7': 295...</td>\n    </tr>\n    <tr>\n      <th>90</th>\n      <td>{'activitySegment': {'startLocation': {'latitu...</td>\n    </tr>\n    <tr>\n      <th>91</th>\n      <td>{'placeVisit': {'location': {'latitudeE7': 294...</td>\n    </tr>\n    <tr>\n      <th>92</th>\n      <td>{'activitySegment': {'startLocation': {'latitu...</td>\n    </tr>\n    <tr>\n      <th>93</th>\n      <td>{'placeVisit': {'location': {'latitudeE7': 293...</td>\n    </tr>\n    <tr>\n      <th>94</th>\n      <td>{'activitySegment': {'startLocation': {'latitu...</td>\n    </tr>\n    <tr>\n      <th>95</th>\n      <td>{'placeVisit': {'location': {'latitudeE7': 295...</td>\n    </tr>\n    <tr>\n      <th>96</th>\n      <td>{'activitySegment': {'startLocation': {'latitu...</td>\n    </tr>\n    <tr>\n      <th>97</th>\n      <td>{'placeVisit': {'location': {'latitudeE7': 296...</td>\n    </tr>\n    <tr>\n      <th>98</th>\n      <td>{'activitySegment': {'startLocation': {'latitu...</td>\n    </tr>\n    <tr>\n      <th>99</th>\n      <td>{'placeVisit': {'location': {'latitudeE7': 295...</td>\n    </tr>\n    <tr>\n      <th>100</th>\n      <td>{'activitySegment': {'startLocation': {'latitu...</td>\n    </tr>\n    <tr>\n      <th>101</th>\n      <td>{'placeVisit': {'location': {'latitudeE7': 293...</td>\n    </tr>\n    <tr>\n      <th>102</th>\n      <td>{'activitySegment': {'startLocation': {'latitu...</td>\n    </tr>\n    <tr>\n      <th>103</th>\n      <td>{'placeVisit': {'location': {'latitudeE7': 294...</td>\n    </tr>\n    <tr>\n      <th>104</th>\n      <td>{'activitySegment': {'startLocation': {'latitu...</td>\n    </tr>\n    <tr>\n      <th>105</th>\n      <td>{'placeVisit': {'location': {'latitudeE7': 295...</td>\n    </tr>\n    <tr>\n      <th>106</th>\n      <td>{'activitySegment': {'startLocation': {'latitu...</td>\n    </tr>\n    <tr>\n      <th>107</th>\n      <td>{'placeVisit': {'location': {'latitudeE7': 293...</td>\n    </tr>\n    <tr>\n      <th>108</th>\n      <td>{'activitySegment': {'startLocation': {'latitu...</td>\n    </tr>\n    <tr>\n      <th>109</th>\n      <td>{'placeVisit': {'location': {'latitudeE7': 295...</td>\n    </tr>\n    <tr>\n      <th>110</th>\n      <td>{'activitySegment': {'startLocation': {'latitu...</td>\n    </tr>\n    <tr>\n      <th>111</th>\n      <td>{'placeVisit': {'location': {'latitudeE7': 295...</td>\n    </tr>\n    <tr>\n      <th>112</th>\n      <td>{'activitySegment': {'startLocation': {'latitu...</td>\n    </tr>\n    <tr>\n      <th>113</th>\n      <td>{'placeVisit': {'location': {'latitudeE7': 296...</td>\n    </tr>\n    <tr>\n      <th>114</th>\n      <td>{'activitySegment': {'startLocation': {'latitu...</td>\n    </tr>\n    <tr>\n      <th>115</th>\n      <td>{'placeVisit': {'location': {'latitudeE7': 295...</td>\n    </tr>\n    <tr>\n      <th>116</th>\n      <td>{'activitySegment': {'startLocation': {'latitu...</td>\n    </tr>\n    <tr>\n      <th>117</th>\n      <td>{'placeVisit': {'location': {'latitudeE7': 295...</td>\n    </tr>\n    <tr>\n      <th>118</th>\n      <td>{'activitySegment': {'startLocation': {'latitu...</td>\n    </tr>\n    <tr>\n      <th>119</th>\n      <td>{'placeVisit': {'location': {'latitudeE7': 295...</td>\n    </tr>\n    <tr>\n      <th>120</th>\n      <td>{'activitySegment': {'startLocation': {'latitu...</td>\n    </tr>\n    <tr>\n      <th>121</th>\n      <td>{'placeVisit': {'location': {'latitudeE7': 297...</td>\n    </tr>\n    <tr>\n      <th>122</th>\n      <td>{'activitySegment': {'startLocation': {'latitu...</td>\n    </tr>\n    <tr>\n      <th>123</th>\n      <td>{'placeVisit': {'location': {'latitudeE7': 295...</td>\n    </tr>\n    <tr>\n      <th>124</th>\n      <td>{'activitySegment': {'startLocation': {'latitu...</td>\n    </tr>\n    <tr>\n      <th>125</th>\n      <td>{'placeVisit': {'location': {'latitudeE7': 293...</td>\n    </tr>\n    <tr>\n      <th>126</th>\n      <td>{'activitySegment': {'startLocation': {'latitu...</td>\n    </tr>\n    <tr>\n      <th>127</th>\n      <td>{'placeVisit': {'location': {'latitudeE7': 295...</td>\n    </tr>\n    <tr>\n      <th>128</th>\n      <td>{'activitySegment': {'startLocation': {'latitu...</td>\n    </tr>\n    <tr>\n      <th>129</th>\n      <td>{'placeVisit': {'location': {'latitudeE7': 295...</td>\n    </tr>\n    <tr>\n      <th>130</th>\n      <td>{'activitySegment': {'startLocation': {'latitu...</td>\n    </tr>\n    <tr>\n      <th>131</th>\n      <td>{'placeVisit': {'location': {'latitudeE7': 293...</td>\n    </tr>\n    <tr>\n      <th>132</th>\n      <td>{'activitySegment': {'startLocation': {'latitu...</td>\n    </tr>\n    <tr>\n      <th>133</th>\n      <td>{'placeVisit': {'location': {'latitudeE7': 294...</td>\n    </tr>\n    <tr>\n      <th>134</th>\n      <td>{'activitySegment': {'startLocation': {'latitu...</td>\n    </tr>\n    <tr>\n      <th>135</th>\n      <td>{'placeVisit': {'location': {'latitudeE7': 295...</td>\n    </tr>\n    <tr>\n      <th>136</th>\n      <td>{'activitySegment': {'startLocation': {'latitu...</td>\n    </tr>\n    <tr>\n      <th>137</th>\n      <td>{'placeVisit': {'location': {'latitudeE7': 294...</td>\n    </tr>\n    <tr>\n      <th>138</th>\n      <td>{'activitySegment': {'startLocation': {'latitu...</td>\n    </tr>\n    <tr>\n      <th>139</th>\n      <td>{'placeVisit': {'location': {'latitudeE7': 293...</td>\n    </tr>\n    <tr>\n      <th>140</th>\n      <td>{'activitySegment': {'startLocation': {'latitu...</td>\n    </tr>\n    <tr>\n      <th>141</th>\n      <td>{'placeVisit': {'location': {'latitudeE7': 295...</td>\n    </tr>\n    <tr>\n      <th>142</th>\n      <td>{'activitySegment': {'startLocation': {'latitu...</td>\n    </tr>\n    <tr>\n      <th>143</th>\n      <td>{'placeVisit': {'location': {'latitudeE7': 296...</td>\n    </tr>\n    <tr>\n      <th>144</th>\n      <td>{'activitySegment': {'startLocation': {'latitu...</td>\n    </tr>\n    <tr>\n      <th>145</th>\n      <td>{'placeVisit': {'location': {'latitudeE7': 295...</td>\n    </tr>\n    <tr>\n      <th>146</th>\n      <td>{'activitySegment': {'startLocation': {'latitu...</td>\n    </tr>\n    <tr>\n      <th>147</th>\n      <td>{'placeVisit': {'location': {'latitudeE7': 293...</td>\n    </tr>\n    <tr>\n      <th>148</th>\n      <td>{'activitySegment': {'startLocation': {'latitu...</td>\n    </tr>\n    <tr>\n      <th>149</th>\n      <td>{'placeVisit': {'location': {'latitudeE7': 295...</td>\n    </tr>\n    <tr>\n      <th>150</th>\n      <td>{'activitySegment': {'startLocation': {'latitu...</td>\n    </tr>\n    <tr>\n      <th>151</th>\n      <td>{'placeVisit': {'location': {'latitudeE7': 295...</td>\n    </tr>\n    <tr>\n      <th>152</th>\n      <td>{'activitySegment': {'startLocation': {'latitu...</td>\n    </tr>\n    <tr>\n      <th>153</th>\n      <td>{'placeVisit': {'location': {'latitudeE7': 295...</td>\n    </tr>\n    <tr>\n      <th>154</th>\n      <td>{'activitySegment': {'startLocation': {'latitu...</td>\n    </tr>\n    <tr>\n      <th>155</th>\n      <td>{'placeVisit': {'location': {'latitudeE7': 292...</td>\n    </tr>\n    <tr>\n      <th>156</th>\n      <td>{'activitySegment': {'startLocation': {'latitu...</td>\n    </tr>\n    <tr>\n      <th>157</th>\n      <td>{'placeVisit': {'location': {'latitudeE7': 293...</td>\n    </tr>\n    <tr>\n      <th>158</th>\n      <td>{'activitySegment': {'startLocation': {'latitu...</td>\n    </tr>\n    <tr>\n      <th>159</th>\n      <td>{'placeVisit': {'location': {'latitudeE7': 293...</td>\n    </tr>\n    <tr>\n      <th>160</th>\n      <td>{'activitySegment': {'startLocation': {'latitu...</td>\n    </tr>\n    <tr>\n      <th>161</th>\n      <td>{'placeVisit': {'location': {'latitudeE7': 295...</td>\n    </tr>\n    <tr>\n      <th>162</th>\n      <td>{'activitySegment': {'startLocation': {'latitu...</td>\n    </tr>\n    <tr>\n      <th>163</th>\n      <td>{'placeVisit': {'location': {'latitudeE7': 295...</td>\n    </tr>\n    <tr>\n      <th>164</th>\n      <td>{'activitySegment': {'startLocation': {'latitu...</td>\n    </tr>\n    <tr>\n      <th>165</th>\n      <td>{'placeVisit': {'location': {'latitudeE7': 295...</td>\n    </tr>\n    <tr>\n      <th>166</th>\n      <td>{'activitySegment': {'startLocation': {'latitu...</td>\n    </tr>\n    <tr>\n      <th>167</th>\n      <td>{'placeVisit': {'location': {'latitudeE7': 295...</td>\n    </tr>\n    <tr>\n      <th>168</th>\n      <td>{'activitySegment': {'startLocation': {'latitu...</td>\n    </tr>\n    <tr>\n      <th>169</th>\n      <td>{'placeVisit': {'location': {'latitudeE7': 296...</td>\n    </tr>\n    <tr>\n      <th>170</th>\n      <td>{'activitySegment': {'startLocation': {'latitu...</td>\n    </tr>\n    <tr>\n      <th>171</th>\n      <td>{'placeVisit': {'location': {'latitudeE7': 295...</td>\n    </tr>\n    <tr>\n      <th>172</th>\n      <td>{'activitySegment': {'startLocation': {'latitu...</td>\n    </tr>\n    <tr>\n      <th>173</th>\n      <td>{'placeVisit': {'location': {'latitudeE7': 295...</td>\n    </tr>\n    <tr>\n      <th>174</th>\n      <td>{'activitySegment': {'startLocation': {'latitu...</td>\n    </tr>\n    <tr>\n      <th>175</th>\n      <td>{'placeVisit': {'location': {'latitudeE7': 295...</td>\n    </tr>\n    <tr>\n      <th>176</th>\n      <td>{'activitySegment': {'startLocation': {'latitu...</td>\n    </tr>\n    <tr>\n      <th>177</th>\n      <td>{'placeVisit': {'location': {'latitudeE7': 295...</td>\n    </tr>\n    <tr>\n      <th>178</th>\n      <td>{'activitySegment': {'startLocation': {'latitu...</td>\n    </tr>\n    <tr>\n      <th>179</th>\n      <td>{'placeVisit': {'location': {'latitudeE7': 295...</td>\n    </tr>\n    <tr>\n      <th>180</th>\n      <td>{'activitySegment': {'startLocation': {'latitu...</td>\n    </tr>\n    <tr>\n      <th>181</th>\n      <td>{'placeVisit': {'location': {'latitudeE7': 293...</td>\n    </tr>\n    <tr>\n      <th>182</th>\n      <td>{'activitySegment': {'startLocation': {'latitu...</td>\n    </tr>\n    <tr>\n      <th>183</th>\n      <td>{'placeVisit': {'location': {'latitudeE7': 295...</td>\n    </tr>\n    <tr>\n      <th>184</th>\n      <td>{'activitySegment': {'startLocation': {'latitu...</td>\n    </tr>\n    <tr>\n      <th>185</th>\n      <td>{'placeVisit': {'location': {'latitudeE7': 293...</td>\n    </tr>\n    <tr>\n      <th>186</th>\n      <td>{'activitySegment': {'startLocation': {'latitu...</td>\n    </tr>\n    <tr>\n      <th>187</th>\n      <td>{'placeVisit': {'location': {'latitudeE7': 293...</td>\n    </tr>\n    <tr>\n      <th>188</th>\n      <td>{'activitySegment': {'startLocation': {'latitu...</td>\n    </tr>\n    <tr>\n      <th>189</th>\n      <td>{'placeVisit': {'location': {'latitudeE7': 293...</td>\n    </tr>\n    <tr>\n      <th>190</th>\n      <td>{'activitySegment': {'startLocation': {'latitu...</td>\n    </tr>\n    <tr>\n      <th>191</th>\n      <td>{'placeVisit': {'location': {'latitudeE7': 295...</td>\n    </tr>\n    <tr>\n      <th>192</th>\n      <td>{'activitySegment': {'startLocation': {'latitu...</td>\n    </tr>\n    <tr>\n      <th>193</th>\n      <td>{'placeVisit': {'location': {'latitudeE7': 294...</td>\n    </tr>\n    <tr>\n      <th>194</th>\n      <td>{'activitySegment': {'startLocation': {'latitu...</td>\n    </tr>\n    <tr>\n      <th>195</th>\n      <td>{'placeVisit': {'location': {'latitudeE7': 293...</td>\n    </tr>\n    <tr>\n      <th>196</th>\n      <td>{'activitySegment': {'startLocation': {'latitu...</td>\n    </tr>\n    <tr>\n      <th>197</th>\n      <td>{'placeVisit': {'location': {'latitudeE7': 295...</td>\n    </tr>\n    <tr>\n      <th>198</th>\n      <td>{'activitySegment': {'startLocation': {'latitu...</td>\n    </tr>\n    <tr>\n      <th>199</th>\n      <td>{'placeVisit': {'location': {'latitudeE7': 296...</td>\n    </tr>\n    <tr>\n      <th>200</th>\n      <td>{'activitySegment': {'startLocation': {'latitu...</td>\n    </tr>\n    <tr>\n      <th>201</th>\n      <td>{'placeVisit': {'location': {'latitudeE7': 295...</td>\n    </tr>\n    <tr>\n      <th>202</th>\n      <td>{'activitySegment': {'startLocation': {'latitu...</td>\n    </tr>\n    <tr>\n      <th>203</th>\n      <td>{'placeVisit': {'location': {'latitudeE7': 293...</td>\n    </tr>\n    <tr>\n      <th>204</th>\n      <td>{'activitySegment': {'startLocation': {'latitu...</td>\n    </tr>\n    <tr>\n      <th>205</th>\n      <td>{'placeVisit': {'location': {'latitudeE7': 295...</td>\n    </tr>\n    <tr>\n      <th>206</th>\n      <td>{'activitySegment': {'startLocation': {'latitu...</td>\n    </tr>\n    <tr>\n      <th>207</th>\n      <td>{'placeVisit': {'location': {'latitudeE7': 294...</td>\n    </tr>\n    <tr>\n      <th>208</th>\n      <td>{'activitySegment': {'startLocation': {'latitu...</td>\n    </tr>\n    <tr>\n      <th>209</th>\n      <td>{'placeVisit': {'location': {'latitudeE7': 293...</td>\n    </tr>\n    <tr>\n      <th>210</th>\n      <td>{'activitySegment': {'startLocation': {'latitu...</td>\n    </tr>\n  </tbody>\n</table>\n</div>"
     },
     "metadata": {},
     "execution_count": 9
    }
   ],
   "source": [
    "# use this part to quickly see the the attributes list for one collection\n",
    "\n",
    "pd.set_option('display.max_rows', None)\n",
    "# parsing json from Google travel timeline per one month\n",
    "jsonf = '2020/' + jsonfiles[4]  # change number here to select different json file from the enumerated list above\n",
    "df1 = pd.read_json(jsonf)\n",
    "\n",
    "# pull out the index in dataframe as actual column to do the further manipulations\n",
    "#df1.reset_index(inplace=True)\n",
    "\n",
    "# example of splitting Pandas column into the several \n",
    "# Series.str.split(pat=None, n=-1, expand=False)\n",
    "\n",
    "df2 = df1['timelineObjects'].str.split(pat=':', n=-1, expand=True)\n",
    "#df2.rename(columns={0:'pref', 1: 'Attr'}, inplace=True)\n",
    "\n",
    "# merging expanded df2 back to the original full table\n",
    "#df3 = df1.merge(df2, left_index=True, right_index=True)\n",
    "\n",
    "df1.head(df1.shape[0])\n",
    "#df3"
   ]
  },
  {
   "cell_type": "code",
   "execution_count": 7,
   "metadata": {},
   "outputs": [],
   "source": [
    "def coll_attr(jsonf):\n",
    "    '''accepts collection json, outputs df with prefix and attribute columns'''\n",
    "    df1 = pd.read_json(jsonf)\n",
    "\n",
    "# pull out the index in dataframe as actual column to do the further manipulations\n",
    "    df1.reset_index(inplace=True)\n",
    "    # split and name df columns\n",
    "    df2 = df1['index'].str.split(pat=':', n=-1, expand=True)\n",
    "    df2.rename(columns={0:'pref', 1: 'Attr'}, inplace=True)\n",
    "    return df2"
   ]
  },
  {
   "source": [
    "pltwalker = 'v3_schemas/' + jsonfiles[20] \n",
    "scout = 'v3_schemas/' + jsonfiles[21]\n",
    "app = 'v3_schemas/' + jsonfiles[19]\n",
    "np = 'v3_schemas/' + jsonfiles[17]\n",
    "\n",
    "df_ = coll_attr(pltwalker).merge(coll_attr(scout), how='outer', on='Attr', suffixes=('_p', '_s'))\n",
    "df_1 = df_.merge(coll_attr(app), how='outer', on='Attr', suffixes=(None, '_a'))\n",
    "df_final = df_1.merge(coll_attr(np), how='outer', on='Attr', suffixes=('_a', '_n'))\n",
    "\n",
    "# a lot of NaN values, need to be dropped\n",
    "df_f = df_final[df_final['Attr'].notna()]\n",
    "#df_f.sort_values(by=['Attr'], inplace=False, axis=1)\n",
    "df_f"
   ],
   "cell_type": "markdown",
   "metadata": {}
  },
  {
   "cell_type": "code",
   "execution_count": 52,
   "metadata": {},
   "outputs": [
    {
     "name": "stdout",
     "output_type": "stream",
     "text": [
      "csv file exported\n"
     ]
    }
   ],
   "source": [
    "df_final.to_csv('perceive_prod_np4.csv', index=False)\n",
    "print('csv file exported')"
   ]
  },
  {
   "cell_type": "code",
   "execution_count": null,
   "metadata": {},
   "outputs": [],
   "source": [
    "# flattening json of the whole schema\n"
   ]
  },
  {
   "cell_type": "code",
   "execution_count": 6,
   "metadata": {},
   "outputs": [
    {
     "output_type": "execute_result",
     "data": {
      "text/plain": [
       "                                     timelineObjects\n",
       "0  [{'activitySegment': {'startLocation': {'latit..."
      ],
      "text/html": "<div>\n<style scoped>\n    .dataframe tbody tr th:only-of-type {\n        vertical-align: middle;\n    }\n\n    .dataframe tbody tr th {\n        vertical-align: top;\n    }\n\n    .dataframe thead th {\n        text-align: right;\n    }\n</style>\n<table border=\"1\" class=\"dataframe\">\n  <thead>\n    <tr style=\"text-align: right;\">\n      <th></th>\n      <th>timelineObjects</th>\n    </tr>\n  </thead>\n  <tbody>\n    <tr>\n      <th>0</th>\n      <td>[{'activitySegment': {'startLocation': {'latit...</td>\n    </tr>\n  </tbody>\n</table>\n</div>"
     },
     "metadata": {},
     "execution_count": 6
    }
   ],
   "source": [
    "# parsing json from search/items response in V2\n",
    "jsonf = '2020/' + jsonfiles[4]\n",
    "\n",
    "with open(jsonf, 'r', encoding=\"utf-8\") as json_file:\n",
    "    json_work = json.load(json_file)\n",
    "    \n",
    "df = pd.json_normalize(json_work, sep='_', max_level=3)\n",
    "#df = pd.json_normalize(json_work, sep='_')\n",
    "\n",
    "df.head()"
   ]
  },
  {
   "cell_type": "code",
   "execution_count": 38,
   "metadata": {},
   "outputs": [
    {
     "data": {
      "text/html": [
       "<div>\n",
       "<style scoped>\n",
       "    .dataframe tbody tr th:only-of-type {\n",
       "        vertical-align: middle;\n",
       "    }\n",
       "\n",
       "    .dataframe tbody tr th {\n",
       "        vertical-align: top;\n",
       "    }\n",
       "\n",
       "    .dataframe thead th {\n",
       "        text-align: right;\n",
       "    }\n",
       "</style>\n",
       "<table border=\"1\" class=\"dataframe\">\n",
       "  <thead>\n",
       "    <tr style=\"text-align: right;\">\n",
       "      <th></th>\n",
       "      <th>Dtype</th>\n",
       "    </tr>\n",
       "  </thead>\n",
       "  <tbody>\n",
       "    <tr>\n",
       "      <th>Plot#</th>\n",
       "      <td>number</td>\n",
       "    </tr>\n",
       "    <tr>\n",
       "      <th>conversion</th>\n",
       "      <td>number</td>\n",
       "    </tr>\n",
       "    <tr>\n",
       "      <th>__object_state__</th>\n",
       "      <td>string</td>\n",
       "    </tr>\n",
       "    <tr>\n",
       "      <th>XPKeywords</th>\n",
       "      <td>array</td>\n",
       "    </tr>\n",
       "    <tr>\n",
       "      <th>snow_ice_percent</th>\n",
       "      <td>number</td>\n",
       "    </tr>\n",
       "  </tbody>\n",
       "</table>\n",
       "</div>"
      ],
      "text/plain": [
       "                   Dtype\n",
       "Plot#             number\n",
       "conversion        number\n",
       "__object_state__  string\n",
       "XPKeywords         array\n",
       "snow_ice_percent  number"
      ]
     },
     "execution_count": 38,
     "metadata": {},
     "output_type": "execute_result"
    }
   ],
   "source": [
    "# this part is to parse all Attributes from Imagine V2, used once, from GET call to schema\n",
    "jsonf = 'v3_schemas/' + jsonfiles[1]\n",
    "ds = pd.read_json(jsonf, typ='series')\n",
    "df = ds.to_frame('Dtype')\n",
    "df.head()"
   ]
  },
  {
   "cell_type": "code",
   "execution_count": 39,
   "metadata": {},
   "outputs": [
    {
     "data": {
      "text/plain": [
       "(346, 1)"
      ]
     },
     "execution_count": 39,
     "metadata": {},
     "output_type": "execute_result"
    }
   ],
   "source": [
    "df.shape"
   ]
  },
  {
   "cell_type": "code",
   "execution_count": 101,
   "metadata": {},
   "outputs": [
    {
     "data": {
      "text/html": [
       "<div>\n",
       "<style scoped>\n",
       "    .dataframe tbody tr th:only-of-type {\n",
       "        vertical-align: middle;\n",
       "    }\n",
       "\n",
       "    .dataframe tbody tr th {\n",
       "        vertical-align: top;\n",
       "    }\n",
       "\n",
       "    .dataframe thead th {\n",
       "        text-align: right;\n",
       "    }\n",
       "</style>\n",
       "<table border=\"1\" class=\"dataframe\">\n",
       "  <thead>\n",
       "    <tr style=\"text-align: right;\">\n",
       "      <th></th>\n",
       "      <th>type</th>\n",
       "      <th>id</th>\n",
       "      <th>properties</th>\n",
       "    </tr>\n",
       "  </thead>\n",
       "  <tbody>\n",
       "    <tr>\n",
       "      <th>ida_yca:AbsColumn</th>\n",
       "      <td>object</td>\n",
       "      <td>urn:jsonschema:com:planet:staccato:di_lda_ca:D...</td>\n",
       "      <td>{'type': 'integer'}</td>\n",
       "    </tr>\n",
       "    <tr>\n",
       "      <th>ida_yca:AbsRange</th>\n",
       "      <td>object</td>\n",
       "      <td>urn:jsonschema:com:planet:staccato:di_lda_ca:D...</td>\n",
       "      <td>{'type': 'integer'}</td>\n",
       "    </tr>\n",
       "    <tr>\n",
       "      <th>ida_yca:Constructs</th>\n",
       "      <td>object</td>\n",
       "      <td>urn:jsonschema:com:planet:staccato:di_lda_ca:D...</td>\n",
       "      <td>{'type': 'array', 'items': {'type': 'string'}}</td>\n",
       "    </tr>\n",
       "    <tr>\n",
       "      <th>ida_yca:Crop</th>\n",
       "      <td>object</td>\n",
       "      <td>urn:jsonschema:com:planet:staccato:di_lda_ca:D...</td>\n",
       "      <td>{'type': 'string'}</td>\n",
       "    </tr>\n",
       "    <tr>\n",
       "      <th>ida_yca:DirectoryPath</th>\n",
       "      <td>object</td>\n",
       "      <td>urn:jsonschema:com:planet:staccato:di_lda_ca:D...</td>\n",
       "      <td>{'type': 'string'}</td>\n",
       "    </tr>\n",
       "  </tbody>\n",
       "</table>\n",
       "</div>"
      ],
      "text/plain": [
       "                         type  \\\n",
       "ida_yca:AbsColumn      object   \n",
       "ida_yca:AbsRange       object   \n",
       "ida_yca:Constructs     object   \n",
       "ida_yca:Crop           object   \n",
       "ida_yca:DirectoryPath  object   \n",
       "\n",
       "                                                                      id  \\\n",
       "ida_yca:AbsColumn      urn:jsonschema:com:planet:staccato:di_lda_ca:D...   \n",
       "ida_yca:AbsRange       urn:jsonschema:com:planet:staccato:di_lda_ca:D...   \n",
       "ida_yca:Constructs     urn:jsonschema:com:planet:staccato:di_lda_ca:D...   \n",
       "ida_yca:Crop           urn:jsonschema:com:planet:staccato:di_lda_ca:D...   \n",
       "ida_yca:DirectoryPath  urn:jsonschema:com:planet:staccato:di_lda_ca:D...   \n",
       "\n",
       "                                                           properties  \n",
       "ida_yca:AbsColumn                                 {'type': 'integer'}  \n",
       "ida_yca:AbsRange                                  {'type': 'integer'}  \n",
       "ida_yca:Constructs     {'type': 'array', 'items': {'type': 'string'}}  \n",
       "ida_yca:Crop                                       {'type': 'string'}  \n",
       "ida_yca:DirectoryPath                              {'type': 'string'}  "
      ]
     },
     "execution_count": 101,
     "metadata": {},
     "output_type": "execute_result"
    }
   ],
   "source": [
    "# subset rows with prefix\n",
    "prefix = df1.filter(like='ida_yca:', axis=0)\n",
    "\n",
    "#save subset as dframe\n",
    "sdf = pd.DataFrame(prefix)\n",
    "sdf.head()"
   ]
  },
  {
   "cell_type": "code",
   "execution_count": 102,
   "metadata": {},
   "outputs": [
    {
     "data": {
      "text/plain": [
       "(22, 3)"
      ]
     },
     "execution_count": 102,
     "metadata": {},
     "output_type": "execute_result"
    }
   ],
   "source": [
    "sdf.shape"
   ]
  },
  {
   "cell_type": "code",
   "execution_count": 86,
   "metadata": {},
   "outputs": [],
   "source": [
    "#!python -m pip install openpyxl"
   ]
  },
  {
   "cell_type": "code",
   "execution_count": 103,
   "metadata": {},
   "outputs": [
    {
     "data": {
      "text/html": [
       "<div>\n",
       "<style scoped>\n",
       "    .dataframe tbody tr th:only-of-type {\n",
       "        vertical-align: middle;\n",
       "    }\n",
       "\n",
       "    .dataframe tbody tr th {\n",
       "        vertical-align: top;\n",
       "    }\n",
       "\n",
       "    .dataframe thead th {\n",
       "        text-align: right;\n",
       "    }\n",
       "</style>\n",
       "<table border=\"1\" class=\"dataframe\">\n",
       "  <thead>\n",
       "    <tr style=\"text-align: right;\">\n",
       "      <th></th>\n",
       "      <th>type</th>\n",
       "      <th>id</th>\n",
       "      <th>properties</th>\n",
       "      <th>Attribute</th>\n",
       "    </tr>\n",
       "  </thead>\n",
       "  <tbody>\n",
       "    <tr>\n",
       "      <th>ida_yca:AbsColumn</th>\n",
       "      <td>object</td>\n",
       "      <td>urn:jsonschema:com:planet:staccato:di_lda_ca:D...</td>\n",
       "      <td>{'type': 'integer'}</td>\n",
       "      <td>ida_yca:AbsColumn</td>\n",
       "    </tr>\n",
       "    <tr>\n",
       "      <th>ida_yca:AbsRange</th>\n",
       "      <td>object</td>\n",
       "      <td>urn:jsonschema:com:planet:staccato:di_lda_ca:D...</td>\n",
       "      <td>{'type': 'integer'}</td>\n",
       "      <td>ida_yca:AbsRange</td>\n",
       "    </tr>\n",
       "    <tr>\n",
       "      <th>ida_yca:Constructs</th>\n",
       "      <td>object</td>\n",
       "      <td>urn:jsonschema:com:planet:staccato:di_lda_ca:D...</td>\n",
       "      <td>{'type': 'array', 'items': {'type': 'string'}}</td>\n",
       "      <td>ida_yca:Constructs</td>\n",
       "    </tr>\n",
       "    <tr>\n",
       "      <th>ida_yca:Crop</th>\n",
       "      <td>object</td>\n",
       "      <td>urn:jsonschema:com:planet:staccato:di_lda_ca:D...</td>\n",
       "      <td>{'type': 'string'}</td>\n",
       "      <td>ida_yca:Crop</td>\n",
       "    </tr>\n",
       "    <tr>\n",
       "      <th>ida_yca:DirectoryPath</th>\n",
       "      <td>object</td>\n",
       "      <td>urn:jsonschema:com:planet:staccato:di_lda_ca:D...</td>\n",
       "      <td>{'type': 'string'}</td>\n",
       "      <td>ida_yca:DirectoryPath</td>\n",
       "    </tr>\n",
       "  </tbody>\n",
       "</table>\n",
       "</div>"
      ],
      "text/plain": [
       "                         type  \\\n",
       "ida_yca:AbsColumn      object   \n",
       "ida_yca:AbsRange       object   \n",
       "ida_yca:Constructs     object   \n",
       "ida_yca:Crop           object   \n",
       "ida_yca:DirectoryPath  object   \n",
       "\n",
       "                                                                      id  \\\n",
       "ida_yca:AbsColumn      urn:jsonschema:com:planet:staccato:di_lda_ca:D...   \n",
       "ida_yca:AbsRange       urn:jsonschema:com:planet:staccato:di_lda_ca:D...   \n",
       "ida_yca:Constructs     urn:jsonschema:com:planet:staccato:di_lda_ca:D...   \n",
       "ida_yca:Crop           urn:jsonschema:com:planet:staccato:di_lda_ca:D...   \n",
       "ida_yca:DirectoryPath  urn:jsonschema:com:planet:staccato:di_lda_ca:D...   \n",
       "\n",
       "                                                           properties  \\\n",
       "ida_yca:AbsColumn                                 {'type': 'integer'}   \n",
       "ida_yca:AbsRange                                  {'type': 'integer'}   \n",
       "ida_yca:Constructs     {'type': 'array', 'items': {'type': 'string'}}   \n",
       "ida_yca:Crop                                       {'type': 'string'}   \n",
       "ida_yca:DirectoryPath                              {'type': 'string'}   \n",
       "\n",
       "                                   Attribute  \n",
       "ida_yca:AbsColumn          ida_yca:AbsColumn  \n",
       "ida_yca:AbsRange            ida_yca:AbsRange  \n",
       "ida_yca:Constructs        ida_yca:Constructs  \n",
       "ida_yca:Crop                    ida_yca:Crop  \n",
       "ida_yca:DirectoryPath  ida_yca:DirectoryPath  "
      ]
     },
     "execution_count": 103,
     "metadata": {},
     "output_type": "execute_result"
    }
   ],
   "source": [
    "sdf['Attribute'] = sdf.index\n",
    "sdf.head()"
   ]
  },
  {
   "cell_type": "code",
   "execution_count": 104,
   "metadata": {},
   "outputs": [
    {
     "data": {
      "text/html": [
       "<div>\n",
       "<style scoped>\n",
       "    .dataframe tbody tr th:only-of-type {\n",
       "        vertical-align: middle;\n",
       "    }\n",
       "\n",
       "    .dataframe tbody tr th {\n",
       "        vertical-align: top;\n",
       "    }\n",
       "\n",
       "    .dataframe thead th {\n",
       "        text-align: right;\n",
       "    }\n",
       "</style>\n",
       "<table border=\"1\" class=\"dataframe\">\n",
       "  <thead>\n",
       "    <tr style=\"text-align: right;\">\n",
       "      <th></th>\n",
       "      <th>type</th>\n",
       "      <th>id</th>\n",
       "      <th>properties</th>\n",
       "      <th>Attribute</th>\n",
       "      <th>Prefix</th>\n",
       "      <th>Property</th>\n",
       "    </tr>\n",
       "  </thead>\n",
       "  <tbody>\n",
       "    <tr>\n",
       "      <th>ida_yca:AbsColumn</th>\n",
       "      <td>object</td>\n",
       "      <td>urn:jsonschema:com:planet:staccato:di_lda_ca:D...</td>\n",
       "      <td>{'type': 'integer'}</td>\n",
       "      <td>ida_yca:AbsColumn</td>\n",
       "      <td>ida_yca</td>\n",
       "      <td>AbsColumn</td>\n",
       "    </tr>\n",
       "    <tr>\n",
       "      <th>ida_yca:AbsRange</th>\n",
       "      <td>object</td>\n",
       "      <td>urn:jsonschema:com:planet:staccato:di_lda_ca:D...</td>\n",
       "      <td>{'type': 'integer'}</td>\n",
       "      <td>ida_yca:AbsRange</td>\n",
       "      <td>ida_yca</td>\n",
       "      <td>AbsRange</td>\n",
       "    </tr>\n",
       "    <tr>\n",
       "      <th>ida_yca:Constructs</th>\n",
       "      <td>object</td>\n",
       "      <td>urn:jsonschema:com:planet:staccato:di_lda_ca:D...</td>\n",
       "      <td>{'type': 'array', 'items': {'type': 'string'}}</td>\n",
       "      <td>ida_yca:Constructs</td>\n",
       "      <td>ida_yca</td>\n",
       "      <td>Constructs</td>\n",
       "    </tr>\n",
       "    <tr>\n",
       "      <th>ida_yca:Crop</th>\n",
       "      <td>object</td>\n",
       "      <td>urn:jsonschema:com:planet:staccato:di_lda_ca:D...</td>\n",
       "      <td>{'type': 'string'}</td>\n",
       "      <td>ida_yca:Crop</td>\n",
       "      <td>ida_yca</td>\n",
       "      <td>Crop</td>\n",
       "    </tr>\n",
       "    <tr>\n",
       "      <th>ida_yca:DirectoryPath</th>\n",
       "      <td>object</td>\n",
       "      <td>urn:jsonschema:com:planet:staccato:di_lda_ca:D...</td>\n",
       "      <td>{'type': 'string'}</td>\n",
       "      <td>ida_yca:DirectoryPath</td>\n",
       "      <td>ida_yca</td>\n",
       "      <td>DirectoryPath</td>\n",
       "    </tr>\n",
       "  </tbody>\n",
       "</table>\n",
       "</div>"
      ],
      "text/plain": [
       "                         type  \\\n",
       "ida_yca:AbsColumn      object   \n",
       "ida_yca:AbsRange       object   \n",
       "ida_yca:Constructs     object   \n",
       "ida_yca:Crop           object   \n",
       "ida_yca:DirectoryPath  object   \n",
       "\n",
       "                                                                      id  \\\n",
       "ida_yca:AbsColumn      urn:jsonschema:com:planet:staccato:di_lda_ca:D...   \n",
       "ida_yca:AbsRange       urn:jsonschema:com:planet:staccato:di_lda_ca:D...   \n",
       "ida_yca:Constructs     urn:jsonschema:com:planet:staccato:di_lda_ca:D...   \n",
       "ida_yca:Crop           urn:jsonschema:com:planet:staccato:di_lda_ca:D...   \n",
       "ida_yca:DirectoryPath  urn:jsonschema:com:planet:staccato:di_lda_ca:D...   \n",
       "\n",
       "                                                           properties  \\\n",
       "ida_yca:AbsColumn                                 {'type': 'integer'}   \n",
       "ida_yca:AbsRange                                  {'type': 'integer'}   \n",
       "ida_yca:Constructs     {'type': 'array', 'items': {'type': 'string'}}   \n",
       "ida_yca:Crop                                       {'type': 'string'}   \n",
       "ida_yca:DirectoryPath                              {'type': 'string'}   \n",
       "\n",
       "                                   Attribute   Prefix       Property  \n",
       "ida_yca:AbsColumn          ida_yca:AbsColumn  ida_yca      AbsColumn  \n",
       "ida_yca:AbsRange            ida_yca:AbsRange  ida_yca       AbsRange  \n",
       "ida_yca:Constructs        ida_yca:Constructs  ida_yca     Constructs  \n",
       "ida_yca:Crop                    ida_yca:Crop  ida_yca           Crop  \n",
       "ida_yca:DirectoryPath  ida_yca:DirectoryPath  ida_yca  DirectoryPath  "
      ]
     },
     "execution_count": 104,
     "metadata": {},
     "output_type": "execute_result"
    }
   ],
   "source": [
    "sdf[['Prefix', 'Property']] = sdf.Attribute.str.split(\":\",expand=True) \n",
    "sdf.head()"
   ]
  },
  {
   "cell_type": "code",
   "execution_count": 105,
   "metadata": {},
   "outputs": [
    {
     "name": "stdout",
     "output_type": "stream",
     "text": [
      "file saved\n"
     ]
    }
   ],
   "source": [
    "# save as excel\n",
    "sdf.to_excel('v3_yieldcomponentsassay.xlsx', sheet_name='v3')\n",
    "print('file saved')"
   ]
  },
  {
   "cell_type": "code",
   "execution_count": 106,
   "metadata": {},
   "outputs": [
    {
     "data": {
      "text/html": [
       "<div>\n",
       "<style scoped>\n",
       "    .dataframe tbody tr th:only-of-type {\n",
       "        vertical-align: middle;\n",
       "    }\n",
       "\n",
       "    .dataframe tbody tr th {\n",
       "        vertical-align: top;\n",
       "    }\n",
       "\n",
       "    .dataframe thead th {\n",
       "        text-align: right;\n",
       "    }\n",
       "</style>\n",
       "<table border=\"1\" class=\"dataframe\">\n",
       "  <thead>\n",
       "    <tr style=\"text-align: right;\">\n",
       "      <th></th>\n",
       "      <th>Prefix</th>\n",
       "      <th>Property</th>\n",
       "    </tr>\n",
       "  </thead>\n",
       "  <tbody>\n",
       "    <tr>\n",
       "      <th>ida_yca:AbsColumn</th>\n",
       "      <td>ida_yca</td>\n",
       "      <td>AbsColumn</td>\n",
       "    </tr>\n",
       "    <tr>\n",
       "      <th>ida_yca:AbsRange</th>\n",
       "      <td>ida_yca</td>\n",
       "      <td>AbsRange</td>\n",
       "    </tr>\n",
       "    <tr>\n",
       "      <th>ida_yca:Constructs</th>\n",
       "      <td>ida_yca</td>\n",
       "      <td>Constructs</td>\n",
       "    </tr>\n",
       "    <tr>\n",
       "      <th>ida_yca:Crop</th>\n",
       "      <td>ida_yca</td>\n",
       "      <td>Crop</td>\n",
       "    </tr>\n",
       "    <tr>\n",
       "      <th>ida_yca:DirectoryPath</th>\n",
       "      <td>ida_yca</td>\n",
       "      <td>DirectoryPath</td>\n",
       "    </tr>\n",
       "    <tr>\n",
       "      <th>ida_yca:Entitlement</th>\n",
       "      <td>ida_yca</td>\n",
       "      <td>Entitlement</td>\n",
       "    </tr>\n",
       "    <tr>\n",
       "      <th>ida_yca:Entry</th>\n",
       "      <td>ida_yca</td>\n",
       "      <td>Entry</td>\n",
       "    </tr>\n",
       "    <tr>\n",
       "      <th>ida_yca:Events</th>\n",
       "      <td>ida_yca</td>\n",
       "      <td>Events</td>\n",
       "    </tr>\n",
       "    <tr>\n",
       "      <th>ida_yca:ExperimentId</th>\n",
       "      <td>ida_yca</td>\n",
       "      <td>ExperimentId</td>\n",
       "    </tr>\n",
       "    <tr>\n",
       "      <th>ida_yca:FieldName</th>\n",
       "      <td>ida_yca</td>\n",
       "      <td>FieldName</td>\n",
       "    </tr>\n",
       "    <tr>\n",
       "      <th>ida_yca:Location</th>\n",
       "      <td>ida_yca</td>\n",
       "      <td>Location</td>\n",
       "    </tr>\n",
       "    <tr>\n",
       "      <th>ida_yca:Make</th>\n",
       "      <td>ida_yca</td>\n",
       "      <td>Make</td>\n",
       "    </tr>\n",
       "    <tr>\n",
       "      <th>ida_yca:Model</th>\n",
       "      <td>ida_yca</td>\n",
       "      <td>Model</td>\n",
       "    </tr>\n",
       "    <tr>\n",
       "      <th>ida_yca:Orientation</th>\n",
       "      <td>ida_yca</td>\n",
       "      <td>Orientation</td>\n",
       "    </tr>\n",
       "    <tr>\n",
       "      <th>ida_yca:Plot</th>\n",
       "      <td>ida_yca</td>\n",
       "      <td>Plot</td>\n",
       "    </tr>\n",
       "    <tr>\n",
       "      <th>ida_yca:PlotBID</th>\n",
       "      <td>ida_yca</td>\n",
       "      <td>PlotBID</td>\n",
       "    </tr>\n",
       "    <tr>\n",
       "      <th>ida_yca:PlotType</th>\n",
       "      <td>ida_yca</td>\n",
       "      <td>PlotType</td>\n",
       "    </tr>\n",
       "    <tr>\n",
       "      <th>ida_yca:Rep</th>\n",
       "      <td>ida_yca</td>\n",
       "      <td>Rep</td>\n",
       "    </tr>\n",
       "    <tr>\n",
       "      <th>ida_yca:RowsPerPlot</th>\n",
       "      <td>ida_yca</td>\n",
       "      <td>RowsPerPlot</td>\n",
       "    </tr>\n",
       "    <tr>\n",
       "      <th>ida_yca:Season</th>\n",
       "      <td>ida_yca</td>\n",
       "      <td>Season</td>\n",
       "    </tr>\n",
       "    <tr>\n",
       "      <th>ida_yca:SetName</th>\n",
       "      <td>ida_yca</td>\n",
       "      <td>SetName</td>\n",
       "    </tr>\n",
       "    <tr>\n",
       "      <th>ida_yca:UploadedBy</th>\n",
       "      <td>ida_yca</td>\n",
       "      <td>UploadedBy</td>\n",
       "    </tr>\n",
       "  </tbody>\n",
       "</table>\n",
       "</div>"
      ],
      "text/plain": [
       "                        Prefix       Property\n",
       "ida_yca:AbsColumn      ida_yca      AbsColumn\n",
       "ida_yca:AbsRange       ida_yca       AbsRange\n",
       "ida_yca:Constructs     ida_yca     Constructs\n",
       "ida_yca:Crop           ida_yca           Crop\n",
       "ida_yca:DirectoryPath  ida_yca  DirectoryPath\n",
       "ida_yca:Entitlement    ida_yca    Entitlement\n",
       "ida_yca:Entry          ida_yca          Entry\n",
       "ida_yca:Events         ida_yca         Events\n",
       "ida_yca:ExperimentId   ida_yca   ExperimentId\n",
       "ida_yca:FieldName      ida_yca      FieldName\n",
       "ida_yca:Location       ida_yca       Location\n",
       "ida_yca:Make           ida_yca           Make\n",
       "ida_yca:Model          ida_yca          Model\n",
       "ida_yca:Orientation    ida_yca    Orientation\n",
       "ida_yca:Plot           ida_yca           Plot\n",
       "ida_yca:PlotBID        ida_yca        PlotBID\n",
       "ida_yca:PlotType       ida_yca       PlotType\n",
       "ida_yca:Rep            ida_yca            Rep\n",
       "ida_yca:RowsPerPlot    ida_yca    RowsPerPlot\n",
       "ida_yca:Season         ida_yca         Season\n",
       "ida_yca:SetName        ida_yca        SetName\n",
       "ida_yca:UploadedBy     ida_yca     UploadedBy"
      ]
     },
     "execution_count": 106,
     "metadata": {},
     "output_type": "execute_result"
    }
   ],
   "source": [
    "sdf[['Prefix', 'Property']]"
   ]
  },
  {
   "cell_type": "code",
   "execution_count": 107,
   "metadata": {},
   "outputs": [
    {
     "data": {
      "text/plain": [
       "ida_yca:AbsColumn            AbsColumn\n",
       "ida_yca:AbsRange              AbsRange\n",
       "ida_yca:Constructs          Constructs\n",
       "ida_yca:Crop                      Crop\n",
       "ida_yca:DirectoryPath    DirectoryPath\n",
       "ida_yca:Entitlement        Entitlement\n",
       "ida_yca:Entry                    Entry\n",
       "ida_yca:Events                  Events\n",
       "ida_yca:ExperimentId      ExperimentId\n",
       "ida_yca:FieldName            FieldName\n",
       "ida_yca:Location              Location\n",
       "ida_yca:Make                      Make\n",
       "ida_yca:Model                    Model\n",
       "ida_yca:Orientation        Orientation\n",
       "ida_yca:Plot                      Plot\n",
       "ida_yca:PlotBID                PlotBID\n",
       "ida_yca:PlotType              PlotType\n",
       "ida_yca:Rep                        Rep\n",
       "ida_yca:RowsPerPlot        RowsPerPlot\n",
       "ida_yca:Season                  Season\n",
       "ida_yca:SetName                SetName\n",
       "ida_yca:UploadedBy          UploadedBy\n",
       "Name: Property, dtype: object"
      ]
     },
     "execution_count": 107,
     "metadata": {},
     "output_type": "execute_result"
    }
   ],
   "source": [
    "sdf['Property']"
   ]
  },
  {
   "cell_type": "code",
   "execution_count": null,
   "metadata": {},
   "outputs": [],
   "source": []
  }
 ],
 "metadata": {
  "kernelspec": {
   "display_name": "Python 3",
   "language": "python",
   "name": "python3"
  },
  "language_info": {
   "codemirror_mode": {
    "name": "ipython",
    "version": 3
   },
   "file_extension": ".py",
   "mimetype": "text/x-python",
   "name": "python",
   "nbconvert_exporter": "python",
   "pygments_lexer": "ipython3",
   "version": "3.8.5-final"
  }
 },
 "nbformat": 4,
 "nbformat_minor": 4
}
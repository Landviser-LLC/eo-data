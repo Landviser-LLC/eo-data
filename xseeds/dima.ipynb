{
 "metadata": {
  "language_info": {
   "codemirror_mode": {
    "name": "ipython",
    "version": 3
   },
   "file_extension": ".py",
   "mimetype": "text/x-python",
   "name": "python",
   "nbconvert_exporter": "python",
   "pygments_lexer": "ipython3",
   "version": "3.8.5-final"
  },
  "orig_nbformat": 2,
  "kernelspec": {
   "name": "python3",
   "display_name": "Python 3",
   "language": "python"
  }
 },
 "nbformat": 4,
 "nbformat_minor": 2,
 "cells": [
  {
   "cell_type": "code",
   "execution_count": 1,
   "metadata": {},
   "outputs": [
    {
     "output_type": "stream",
     "name": "stdout",
     "text": [
      "         path_name  p       test  name\n0      path1/name1  6      name1   NaN\n1    path10/name10  7    /name10   NaN\n2  path100/name100  8  0/name100   NaN\n"
     ]
    }
   ],
   "source": [
    "import pandas as pd\n",
    "list = [['path1/name1'], ['path10/name10'], ['path100/name100']]\n",
    "df = pd.DataFrame(list, columns = ['path_name'])\n",
    "df = df.assign(p = df['path_name'].str.rfind(\"/\") + 1)\n",
    "df['test'] = df['path_name'].str[6:]\n",
    "df['name'] = df['path_name'].str[df['p']:]\n",
    "print(df)"
   ]
  },
  {
   "cell_type": "code",
   "execution_count": 6,
   "metadata": {},
   "outputs": [
    {
     "output_type": "execute_result",
     "data": {
      "text/plain": [
       "         path_name  p       test  name\n",
       "0      path1-name1  6      name1   NaN\n",
       "1    path10-name10  7    -name10   NaN\n",
       "2  path100-name100  8  0-name100   NaN"
      ],
      "text/html": "<div>\n<style scoped>\n    .dataframe tbody tr th:only-of-type {\n        vertical-align: middle;\n    }\n\n    .dataframe tbody tr th {\n        vertical-align: top;\n    }\n\n    .dataframe thead th {\n        text-align: right;\n    }\n</style>\n<table border=\"1\" class=\"dataframe\">\n  <thead>\n    <tr style=\"text-align: right;\">\n      <th></th>\n      <th>path_name</th>\n      <th>p</th>\n      <th>test</th>\n      <th>name</th>\n    </tr>\n  </thead>\n  <tbody>\n    <tr>\n      <th>0</th>\n      <td>path1-name1</td>\n      <td>6</td>\n      <td>name1</td>\n      <td>NaN</td>\n    </tr>\n    <tr>\n      <th>1</th>\n      <td>path10-name10</td>\n      <td>7</td>\n      <td>-name10</td>\n      <td>NaN</td>\n    </tr>\n    <tr>\n      <th>2</th>\n      <td>path100-name100</td>\n      <td>8</td>\n      <td>0-name100</td>\n      <td>NaN</td>\n    </tr>\n  </tbody>\n</table>\n</div>"
     },
     "metadata": {},
     "execution_count": 6
    }
   ],
   "source": [
    "list1 = [['path1-name1'], ['path10-name10'], ['path100-name100']]\n",
    "df = pd.DataFrame(list1, columns = ['path_name'])\n",
    "#df = df.assign(p = df['path_name'].str.rfind(\"-\") + 1)\n",
    "df['p'] = df['path_name'].str.rfind(\"-\") + 1\n",
    "df['test'] = df['path_name'].str[6:]\n",
    "df['name'] = df['path_name'].str[df['p']:]\n",
    "df"
   ]
  },
  {
   "cell_type": "code",
   "execution_count": null,
   "metadata": {},
   "outputs": [],
   "source": []
  }
 ]
}
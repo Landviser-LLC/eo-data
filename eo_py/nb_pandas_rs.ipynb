{
 "cells": [
  {
   "cell_type": "code",
   "execution_count": 7,
   "metadata": {},
   "outputs": [],
   "source": [
    "%matplotlib inline\n",
    "import pandas as pd\n",
    "import numpy as np\n",
    "import matplotlib.pyplot as plt\n",
    "import os"
   ]
  },
  {
   "cell_type": "code",
   "execution_count": 9,
   "metadata": {},
   "outputs": [],
   "source": [
    "pd.set_option('display.max_rows', 500)\n",
    "pd.set_option('display.max_columns', 500)"
   ]
  },
  {
   "cell_type": "code",
   "execution_count": 11,
   "metadata": {},
   "outputs": [
    {
     "name": "stdout",
     "output_type": "stream",
     "text": [
      "%pylab is deprecated, use %matplotlib inline and import the required libraries.\n",
      "Populating the interactive namespace from numpy and matplotlib\n"
     ]
    }
   ],
   "source": [
    "%pylab inline"
   ]
  },
  {
   "cell_type": "code",
   "execution_count": 5,
   "metadata": {},
   "outputs": [
    {
     "name": "stdout",
     "output_type": "stream",
     "text": [
      "Current Working Directory  c:\\Users\\laris\\repos\\eo-data\n"
     ]
    }
   ],
   "source": [
    "print(\"Current Working Directory \" , os.getcwd())"
   ]
  },
  {
   "cell_type": "code",
   "execution_count": 4,
   "metadata": {},
   "outputs": [],
   "source": [
    "os.chdir('..')"
   ]
  },
  {
   "cell_type": "code",
   "execution_count": 13,
   "metadata": {},
   "outputs": [
    {
     "data": {
      "text/html": [
       "<div>\n",
       "<style scoped>\n",
       "    .dataframe tbody tr th:only-of-type {\n",
       "        vertical-align: middle;\n",
       "    }\n",
       "\n",
       "    .dataframe tbody tr th {\n",
       "        vertical-align: top;\n",
       "    }\n",
       "\n",
       "    .dataframe thead th {\n",
       "        text-align: right;\n",
       "    }\n",
       "</style>\n",
       "<table border=\"1\" class=\"dataframe\">\n",
       "  <thead>\n",
       "    <tr style=\"text-align: right;\">\n",
       "      <th></th>\n",
       "      <th>AREA</th>\n",
       "      <th>COUNT</th>\n",
       "      <th>FILE</th>\n",
       "      <th>MAX</th>\n",
       "      <th>MEAN</th>\n",
       "      <th>MEDIAN</th>\n",
       "      <th>MIN</th>\n",
       "      <th>NAME</th>\n",
       "      <th>OBJECTID</th>\n",
       "      <th>PCT90</th>\n",
       "      <th>RANGE</th>\n",
       "      <th>STD</th>\n",
       "      <th>SUM</th>\n",
       "      <th>ZONE_CODE</th>\n",
       "    </tr>\n",
       "  </thead>\n",
       "  <tbody>\n",
       "    <tr>\n",
       "      <th>0</th>\n",
       "      <td>135214.167681</td>\n",
       "      <td>275624.0</td>\n",
       "      <td>NDVI221009</td>\n",
       "      <td>0.59136</td>\n",
       "      <td>0.399441</td>\n",
       "      <td>0.396446</td>\n",
       "      <td>0.155955</td>\n",
       "      <td>17</td>\n",
       "      <td>1</td>\n",
       "      <td>0.507441</td>\n",
       "      <td>0.435404</td>\n",
       "      <td>0.078235</td>\n",
       "      <td>110095.476553</td>\n",
       "      <td>1</td>\n",
       "    </tr>\n",
       "  </tbody>\n",
       "</table>\n",
       "</div>"
      ],
      "text/plain": [
       "            AREA     COUNT        FILE      MAX      MEAN    MEDIAN       MIN  \\\n",
       "0  135214.167681  275624.0  NDVI221009  0.59136  0.399441  0.396446  0.155955   \n",
       "\n",
       "  NAME  OBJECTID     PCT90     RANGE       STD            SUM  ZONE_CODE  \n",
       "0   17         1  0.507441  0.435404  0.078235  110095.476553          1  "
      ]
     },
     "execution_count": 13,
     "metadata": {},
     "output_type": "execute_result"
    }
   ],
   "source": [
    "path_csv = 'data/rs/outputs/ausVI202210.csv'\n",
    "\n",
    "df = pd.read_csv(path_csv)\n",
    "df.head(1)"
   ]
  },
  {
   "cell_type": "code",
   "execution_count": 22,
   "metadata": {},
   "outputs": [
    {
     "data": {
      "text/html": [
       "<div>\n",
       "<style scoped>\n",
       "    .dataframe tbody tr th:only-of-type {\n",
       "        vertical-align: middle;\n",
       "    }\n",
       "\n",
       "    .dataframe tbody tr th {\n",
       "        vertical-align: top;\n",
       "    }\n",
       "\n",
       "    .dataframe thead th {\n",
       "        text-align: right;\n",
       "    }\n",
       "</style>\n",
       "<table border=\"1\" class=\"dataframe\">\n",
       "  <thead>\n",
       "    <tr style=\"text-align: right;\">\n",
       "      <th></th>\n",
       "      <th>AREA</th>\n",
       "      <th>COUNT</th>\n",
       "      <th>FILE</th>\n",
       "      <th>MAX</th>\n",
       "      <th>MEAN</th>\n",
       "      <th>MEDIAN</th>\n",
       "      <th>MIN</th>\n",
       "      <th>NAME</th>\n",
       "      <th>OBJECTID</th>\n",
       "      <th>PCT90</th>\n",
       "      <th>RANGE</th>\n",
       "      <th>STD</th>\n",
       "      <th>SUM</th>\n",
       "      <th>ZONE_CODE</th>\n",
       "      <th>DATE</th>\n",
       "      <th>INDEX</th>\n",
       "    </tr>\n",
       "  </thead>\n",
       "  <tbody>\n",
       "    <tr>\n",
       "      <th>0</th>\n",
       "      <td>135214.167681</td>\n",
       "      <td>275624.0</td>\n",
       "      <td>NDVI221009</td>\n",
       "      <td>0.59136</td>\n",
       "      <td>0.399441</td>\n",
       "      <td>0.396446</td>\n",
       "      <td>0.155955</td>\n",
       "      <td>17</td>\n",
       "      <td>1</td>\n",
       "      <td>0.507441</td>\n",
       "      <td>0.435404</td>\n",
       "      <td>0.078235</td>\n",
       "      <td>110095.476553</td>\n",
       "      <td>1</td>\n",
       "      <td>221009</td>\n",
       "      <td>NDVI</td>\n",
       "    </tr>\n",
       "  </tbody>\n",
       "</table>\n",
       "</div>"
      ],
      "text/plain": [
       "            AREA     COUNT        FILE      MAX      MEAN    MEDIAN       MIN  \\\n",
       "0  135214.167681  275624.0  NDVI221009  0.59136  0.399441  0.396446  0.155955   \n",
       "\n",
       "  NAME  OBJECTID     PCT90     RANGE       STD            SUM  ZONE_CODE  \\\n",
       "0   17         1  0.507441  0.435404  0.078235  110095.476553          1   \n",
       "\n",
       "     DATE INDEX  \n",
       "0  221009  NDVI  "
      ]
     },
     "execution_count": 22,
     "metadata": {},
     "output_type": "execute_result"
    }
   ],
   "source": [
    "df['DATE'] = df['FILE'].str[-6:]\n",
    "df['INDEX'] = df['FILE'].str[:4]\n",
    "df.head(1)"
   ]
  },
  {
   "cell_type": "code",
   "execution_count": 20,
   "metadata": {},
   "outputs": [
    {
     "data": {
      "text/plain": [
       "array(['221009', '221016', '221019'], dtype=object)"
      ]
     },
     "execution_count": 20,
     "metadata": {},
     "output_type": "execute_result"
    }
   ],
   "source": [
    "df['DATE'].unique()"
   ]
  },
  {
   "cell_type": "code",
   "execution_count": 27,
   "metadata": {},
   "outputs": [
    {
     "data": {
      "text/plain": [
       "array(['NDVI', 'GNDVI', 'SAVI', 'EVI', 'TRVI'], dtype=object)"
      ]
     },
     "execution_count": 27,
     "metadata": {},
     "output_type": "execute_result"
    }
   ],
   "source": [
    "df['INDEX'].unique()"
   ]
  },
  {
   "cell_type": "code",
   "execution_count": 26,
   "metadata": {},
   "outputs": [],
   "source": [
    "df['INDEX'] = np.where(df['INDEX'] == 'GNDV', 'GNDVI', df['INDEX'])\n",
    "df['INDEX'] = np.where(df['INDEX'] == 'EVI2', 'EVI', df['INDEX'])"
   ]
  },
  {
   "cell_type": "code",
   "execution_count": 28,
   "metadata": {},
   "outputs": [
    {
     "data": {
      "text/plain": [
       "array(['17', '18', '8', '19N', '19S', '1', '4'], dtype=object)"
      ]
     },
     "execution_count": 28,
     "metadata": {},
     "output_type": "execute_result"
    }
   ],
   "source": [
    "df['NAME'].unique()"
   ]
  },
  {
   "cell_type": "code",
   "execution_count": 42,
   "metadata": {},
   "outputs": [],
   "source": [
    "# exclude EVI from all charts since it is on different scale than other indicies\n",
    "df1 = df.loc[df['INDEX'] !='EVI']"
   ]
  },
  {
   "cell_type": "code",
   "execution_count": 60,
   "metadata": {},
   "outputs": [],
   "source": [
    "# for plotting change bar charts per field, subset each to df\n",
    "\n",
    "df_17 = df1.loc[df1['NAME'] =='17']\n",
    "df_18 = df1.loc[df1['NAME'] =='18']\n",
    "df_8 = df1.loc[df1['NAME'] =='8']\n",
    "df_19N = df1.loc[df1['NAME'] =='19N']\n",
    "df_19S = df1.loc[df1['NAME'] =='19S']\n",
    "df_1 = df1.loc[df1['NAME'] =='1']\n",
    "df_4 = df1.loc[df1['NAME'] =='4']"
   ]
  },
  {
   "cell_type": "code",
   "execution_count": 41,
   "metadata": {},
   "outputs": [],
   "source": [
    "# simple plot in Pandas\n",
    "#ax = df_17['MEAN'].plot.bar(x='INDEX', y='DATE', rot=0)\n",
    "#plt.show()"
   ]
  },
  {
   "cell_type": "code",
   "execution_count": 61,
   "metadata": {},
   "outputs": [
    {
     "name": "stdout",
     "output_type": "stream",
     "text": [
      "File with graph created, you can run other location now!\n"
     ]
    },
    {
     "data": {
      "image/png": "[encoded data removed]",
      "text/plain": [
       "<Figure size 640x480 with 1 Axes>"
      ]
     },
     "metadata": {},
     "output_type": "display_data"
    }
   ],
   "source": [
    "import seaborn as sns\n",
    "#set seaborn plotting aesthetics\n",
    "sns.set(style='white')\n",
    "\n",
    "#create grouped bar chart\n",
    "sns.barplot(x='INDEX', y='MEAN', hue='DATE', data=df_4) \n",
    "\n",
    "#customizing with titles\n",
    "#add overall title\n",
    "plt.title('Pistachios Field #4', fontsize=16)\n",
    "\n",
    "#add axis titles\n",
    "plt.xlabel('Vegetative Index')\n",
    "plt.ylabel('Mean value of index')\n",
    "\n",
    "#saving to file\n",
    "# Saving graph to file\n",
    "plt.savefig('2022-10-AUS-fld4-VIs.png',dpi=300,transparent=False)\n",
    "print('File with graph created, you can run other location now!')\n",
    "\n",
    "plt.show()"
   ]
  }
 ],
 "metadata": {
  "kernelspec": {
   "display_name": ".venv38eo",
   "language": "python",
   "name": "python3"
  },
  "language_info": {
   "codemirror_mode": {
    "name": "ipython",
    "version": 3
   },
   "file_extension": ".py",
   "mimetype": "text/x-python",
   "name": "python",
   "nbconvert_exporter": "python",
   "pygments_lexer": "ipython3",
   "version": "3.8.10"
  },
  "orig_nbformat": 4,
  "vscode": {
   "interpreter": {
    "hash": "d976e26bdada36c5a7ad930433d46c74f0eb96ff2c94a0db8b07934defc3f2ef"
   }
  }
 },
 "nbformat": 4,
 "nbformat_minor": 2
}

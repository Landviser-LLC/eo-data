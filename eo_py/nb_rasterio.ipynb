{
 "cells": [
  {
   "cell_type": "code",
   "execution_count": 2,
   "metadata": {},
   "outputs": [],
   "source": [
    "import os\n",
    "import rasterio\n",
    "from rasterio.windows import Window"
   ]
  },
  {
   "cell_type": "code",
   "execution_count": 5,
   "metadata": {},
   "outputs": [
    {
     "name": "stdout",
     "output_type": "stream",
     "text": [
      "Current Working Directory  c:\\Users\\laris\\repos\\eo-data\n"
     ]
    }
   ],
   "source": [
    "print(\"Current Working Directory \" , os.getcwd())"
   ]
  },
  {
   "cell_type": "code",
   "execution_count": 4,
   "metadata": {},
   "outputs": [],
   "source": [
    "# this will move one directory up\n",
    "os.chdir('..')"
   ]
  },
  {
   "cell_type": "code",
   "execution_count": 18,
   "metadata": {},
   "outputs": [],
   "source": [
    "# paths to the raster files \n",
    "\n",
    "tif1009 = 'data/rs/20221009_042654_SN21_L1_SR_MS_80157/rasters/20221009_042654_SN21_L1_SR_MS_0.tif'\n",
    "tif1016 = 'data/rs/20221016_043447_SN22_L1_SR_MS_82727/rasters/20221016_043447_SN22_L1_SR_MS_0.tif'\n",
    "tif1019 = 'data/rs/20221019_001540_SN16_L1_SR_MS_82727/rasters/20221019_001540_SN16_L1_SR_MS_0.tif'"
   ]
  },
  {
   "cell_type": "code",
   "execution_count": 19,
   "metadata": {},
   "outputs": [],
   "source": [
    "dataset = rasterio.open(tif1016)"
   ]
  },
  {
   "cell_type": "code",
   "execution_count": 20,
   "metadata": {},
   "outputs": [
    {
     "data": {
      "text/plain": [
       "4"
      ]
     },
     "execution_count": 20,
     "metadata": {},
     "output_type": "execute_result"
    }
   ],
   "source": [
    "# counts how many bands are in the loaded raster\n",
    "dataset.count"
   ]
  },
  {
   "attachments": {},
   "cell_type": "markdown",
   "metadata": {},
   "source": [
    "##Calculating Indices"
   ]
  },
  {
   "cell_type": "code",
   "execution_count": 21,
   "metadata": {},
   "outputs": [
    {
     "name": "stderr",
     "output_type": "stream",
     "text": [
      "C:\\Users\\laris\\AppData\\Local\\Temp\\ipykernel_29388\\3308843451.py:20: RuntimeWarning: invalid value encountered in divide\n",
      "  trvi = 4 * ((nir_band - red_band) / (nir_band + red_band + green_band + blue_band))\n",
      "C:\\Users\\laris\\AppData\\Local\\Temp\\ipykernel_29388\\3308843451.py:21: RuntimeWarning: invalid value encountered in divide\n",
      "  ndvi = (nir_band - red_band) / (nir_band + red_band)\n",
      "C:\\Users\\laris\\AppData\\Local\\Temp\\ipykernel_29388\\3308843451.py:22: RuntimeWarning: divide by zero encountered in divide\n",
      "  evi =  2.5 * ((nir_band - red_band) / (nir_band + 6*red_band - 7.5*blue_band + 1))\n"
     ]
    },
    {
     "name": "stdout",
     "output_type": "stream",
     "text": [
      "[[       nan        nan        nan ... 0.72477805 0.74078443 0.77320247]\n",
      " [       nan        nan        nan ... 0.76538309 0.72478429 0.78606965]\n",
      " [       nan        nan        nan ... 0.78761524 0.69109948        nan]\n",
      " ...\n",
      " [0.24658494 0.27913858 0.11082379 ...        nan        nan        nan]\n",
      " [0.22494314 0.32225084 0.14809616 ...        nan        nan        nan]\n",
      " [0.23107918 0.35015432 0.14522048 ...        nan        nan        nan]]\n",
      "[[       nan        nan        nan ... 0.32232592 0.33052632 0.34162896]\n",
      " [       nan        nan        nan ... 0.33872101 0.32137203 0.3459854 ]\n",
      " [       nan        nan        nan ... 0.34428224 0.30877193        nan]\n",
      " ...\n",
      " [0.12028901 0.1364513  0.05266854 ...        nan        nan        nan]\n",
      " [0.10968473 0.15908913 0.07145276 ...        nan        nan        nan]\n",
      " [0.11266806 0.1743373  0.07066711 ...        nan        nan        nan]]\n",
      "[[ 0.          0.          0.         ... -3.18214033 -2.10174029\n",
      "  -2.22331288]\n",
      " [ 0.          0.          0.         ... -3.41601701 -2.53433208\n",
      "  -2.4704656 ]\n",
      " [ 0.          0.          0.         ... -3.37507454 -2.42982052\n",
      "   0.        ]\n",
      " ...\n",
      " [-0.80062386 -0.75803571  2.92207792 ...  0.          0.\n",
      "   0.        ]\n",
      " [-0.68514151 -0.61662117 -1.7201087  ...  0.          0.\n",
      "   0.        ]\n",
      " [-0.66265731 -0.582452   -1.29116466 ...  0.          0.\n",
      "   0.        ]]\n",
      "(14334, 10763)\n",
      "{'driver': 'GTiff', 'dtype': 'uint16', 'nodata': 0.0, 'width': 10763, 'height': 14334, 'count': 4, 'crs': CRS.from_epsg(32754), 'transform': Affine(0.7004103967168325, 0.0, 664329.294117647,\n",
      "       0.0, -0.7004103967168208, 6163752.459644323), 'blockxsize': 512, 'blockysize': 512, 'tiled': True, 'compress': 'lzw', 'interleave': 'pixel'}\n"
     ]
    }
   ],
   "source": [
    "# TRVI \n",
    "# Open the TIFF file\n",
    "with rasterio.open(tif1016) as src:\n",
    "    # read and save as variable metadata of source raster\n",
    "    src_meta = src.profile\n",
    "\n",
    "    # Create windows for each band\n",
    "    nir_window = Window(col_off=0, row_off=0, width=src.width, height=src.height)\n",
    "    red_window = nir_window\n",
    "    green_window = nir_window\n",
    "    blue_window = nir_window\n",
    "\n",
    "    # Read the specific bands as numpy arrays\n",
    "    nir_band = src.read(4, window=nir_window)\n",
    "    red_band = src.read(3, window=red_window)\n",
    "    green_band = src.read(2, window=green_window)\n",
    "    blue_band = src.read(1, window=blue_window)\n",
    "    \n",
    "    # Perform the calculations of indexes - reference for some https://towardsdatascience.com/monitor-vegetation-with-google-earth-engine-909a2ad51a48\n",
    "    trvi = 4 * ((nir_band - red_band) / (nir_band + red_band + green_band + blue_band))\n",
    "    # 4 * ((B4-B3)/(B4+B3+B2+B1))\n",
    "    ndvi = (nir_band - red_band) / (nir_band + red_band)\n",
    "    evi =  2.5 * ((nir_band - red_band) / (nir_band + 6*red_band - 7.5*blue_band + 1))\n",
    "\n",
    "    print(trvi)\n",
    "    print(ndvi)\n",
    "    print(evi)\n",
    "   \n",
    "    print(trvi.shape)\n",
    "    print(src_meta)"
   ]
  },
  {
   "cell_type": "code",
   "execution_count": 22,
   "metadata": {},
   "outputs": [
    {
     "name": "stdout",
     "output_type": "stream",
     "text": [
      "The directory exists!\n"
     ]
    }
   ],
   "source": [
    "# saving calculations as new geotif\n",
    "\n",
    "# create output directory if not exists\n",
    "\n",
    "if os.path.exists('data/rs/outputs'):\n",
    "    print('The directory exists!')\n",
    "else:\n",
    "    os.makedirs('data/rs/outputs')\n",
    "\n"
   ]
  },
  {
   "cell_type": "code",
   "execution_count": 23,
   "metadata": {},
   "outputs": [
    {
     "name": "stderr",
     "output_type": "stream",
     "text": [
      "c:\\Users\\laris\\repos\\.venv\\lib\\site-packages\\numpy\\core\\_asarray.py:130: RuntimeWarning: invalid value encountered in cast\n",
      "  arr = array(a, dtype=dtype, order=order, copy=False, subok=subok)\n"
     ]
    }
   ],
   "source": [
    "# writing calculated index out as tif  20221009 - date\n",
    "\n",
    "# export trvi index as a new geotiff to use or share with colleagues\n",
    "with rasterio.open('data/rs/outputs/20221016_trvi.tiff', 'w', **src_meta) as ff:\n",
    "    ff.write(trvi,1)\n",
    "with rasterio.open('data/rs/outputs/20221016_ndvi.tiff', 'w', **src_meta) as ff:\n",
    "    ff.write(ndvi,1)\n",
    "with rasterio.open('data/rs/outputs/20221016_evi.tiff', 'w', **src_meta) as ff:\n",
    "    ff.write(evi,1)"
   ]
  },
  {
   "cell_type": "code",
   "execution_count": 15,
   "metadata": {},
   "outputs": [
    {
     "ename": "RasterioIOError",
     "evalue": "Dataset is closed: data/rs/20221009_042654_SN21_L1_SR_MS_80157/rasters/20221009_042654_SN21_L1_SR_MS_0.tif",
     "output_type": "error",
     "traceback": [
      "\u001b[1;31m---------------------------------------------------------------------------\u001b[0m",
      "\u001b[1;31mRasterioIOError\u001b[0m                           Traceback (most recent call last)",
      "Cell \u001b[1;32mIn[15], line 7\u001b[0m\n\u001b[0;32m      1\u001b[0m \u001b[39m# Register GDAL format drivers and configuration options with a\u001b[39;00m\n\u001b[0;32m      2\u001b[0m \u001b[39m# context manager.\u001b[39;00m\n\u001b[0;32m      3\u001b[0m \u001b[39mwith\u001b[39;00m rasterio\u001b[39m.\u001b[39mEnv():\n\u001b[0;32m      4\u001b[0m \n\u001b[0;32m      5\u001b[0m     \u001b[39m# Write an array as a raster band to a new 8-bit file. For\u001b[39;00m\n\u001b[0;32m      6\u001b[0m     \u001b[39m# the new file's profile, we start with the profile of the source\u001b[39;00m\n\u001b[1;32m----> 7\u001b[0m     profile \u001b[39m=\u001b[39m src\u001b[39m.\u001b[39;49mprofile\n\u001b[0;32m      9\u001b[0m     \u001b[39m# And then change the band count to 1, set the\u001b[39;00m\n\u001b[0;32m     10\u001b[0m     \u001b[39m# dtype to uint8, and specify LZW compression.\u001b[39;00m\n\u001b[0;32m     11\u001b[0m     profile\u001b[39m.\u001b[39mupdate(\n\u001b[0;32m     12\u001b[0m         dtype\u001b[39m=\u001b[39mrasterio\u001b[39m.\u001b[39muint8,\n\u001b[0;32m     13\u001b[0m         count\u001b[39m=\u001b[39m\u001b[39m1\u001b[39m,\n\u001b[0;32m     14\u001b[0m         compress\u001b[39m=\u001b[39m\u001b[39m'\u001b[39m\u001b[39mlzw\u001b[39m\u001b[39m'\u001b[39m)\n",
      "File \u001b[1;32mrasterio\\_base.pyx:1025\u001b[0m, in \u001b[0;36mrasterio._base.DatasetBase.profile.__get__\u001b[1;34m()\u001b[0m\n",
      "File \u001b[1;32mrasterio\\_base.pyx:1004\u001b[0m, in \u001b[0;36mrasterio._base.DatasetBase.is_tiled.__get__\u001b[1;34m()\u001b[0m\n",
      "File \u001b[1;32mrasterio\\_base.pyx:524\u001b[0m, in \u001b[0;36mrasterio._base.DatasetBase.block_shapes.__get__\u001b[1;34m()\u001b[0m\n",
      "File \u001b[1;32mrasterio\\_base.pyx:364\u001b[0m, in \u001b[0;36mrasterio._base.DatasetBase.band\u001b[1;34m()\u001b[0m\n",
      "File \u001b[1;32mrasterio\\_base.pyx:357\u001b[0m, in \u001b[0;36mrasterio._base.DatasetBase.handle\u001b[1;34m()\u001b[0m\n",
      "\u001b[1;31mRasterioIOError\u001b[0m: Dataset is closed: data/rs/20221009_042654_SN21_L1_SR_MS_80157/rasters/20221009_042654_SN21_L1_SR_MS_0.tif"
     ]
    }
   ],
   "source": [
    "# Register GDAL format drivers and configuration options with a\n",
    "# context manager.\n",
    "with rasterio.Env():\n",
    "\n",
    "    # Write an array as a raster band to a new 8-bit file. For\n",
    "    # the new file's profile, we start with the profile of the source\n",
    "    profile = src.profile\n",
    "\n",
    "    # And then change the band count to 1, set the\n",
    "    # dtype to uint8, and specify LZW compression.\n",
    "    profile.update(\n",
    "        dtype=rasterio.uint8,\n",
    "        count=1,\n",
    "        compress='lzw')\n",
    "\n",
    "    with rasterio.open('trvi.tif', 'w', **profile) as dst:\n",
    "        dst.write(array.astype(rasterio.uint8), 1)\n",
    "\n",
    "# At the end of the ``with rasterio.Env()`` block, context\n",
    "# manager exits and all drivers are de-registered."
   ]
  }
 ],
 "metadata": {
  "kernelspec": {
   "display_name": ".venv",
   "language": "python",
   "name": "python3"
  },
  "language_info": {
   "codemirror_mode": {
    "name": "ipython",
    "version": 3
   },
   "file_extension": ".py",
   "mimetype": "text/x-python",
   "name": "python",
   "nbconvert_exporter": "python",
   "pygments_lexer": "ipython3",
   "version": "3.8.10"
  },
  "orig_nbformat": 4,
  "vscode": {
   "interpreter": {
    "hash": "fc703cb1e1d555aaf6aa4a5fcf43a01ca96595418bdc83eba0063f892326db79"
   }
  }
 },
 "nbformat": 4,
 "nbformat_minor": 2
}
